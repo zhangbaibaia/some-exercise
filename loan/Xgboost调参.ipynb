{
 "cells": [
  {
   "cell_type": "code",
   "execution_count": 1,
   "metadata": {},
   "outputs": [],
   "source": [
    "import numpy as np \n",
    "import pandas as pd \n",
    "import matplotlib.pyplot as plt\n"
   ]
  },
  {
   "cell_type": "code",
   "execution_count": 2,
   "metadata": {},
   "outputs": [],
   "source": [
    "train=pd.read_csv('train_128.csv',index_col=0)"
   ]
  },
  {
   "cell_type": "code",
   "execution_count": 3,
   "metadata": {},
   "outputs": [
    {
     "name": "stdout",
     "output_type": "stream",
     "text": [
      "Counter({0: 4524, 1: 774})\n"
     ]
    }
   ],
   "source": [
    "from collections import Counter\n",
    "# 查看所生成的样本类别分布\n",
    "x,y = train.iloc[:,0:train.shape[1]-2],train.iloc[:,train.shape[1]-1]\n",
    "print(Counter(y))"
   ]
  },
  {
   "cell_type": "code",
   "execution_count": 4,
   "metadata": {},
   "outputs": [],
   "source": [
    "x=train.iloc[:,:-1]\n",
    "x=np.array(x)\n",
    "y=train.iloc[:,-1]\n",
    "y=np.array(y)"
   ]
  },
  {
   "cell_type": "code",
   "execution_count": 5,
   "metadata": {},
   "outputs": [
    {
     "name": "stdout",
     "output_type": "stream",
     "text": [
      "Counter({0: 4524, 1: 4524})\n",
      "6333\n",
      "2715\n"
     ]
    }
   ],
   "source": [
    "# 使用imlbearn库中上采样方法中的SMOTE接口\n",
    "from imblearn.over_sampling import SMOTE\n",
    "from sklearn.model_selection import train_test_split\n",
    "from sklearn.metrics import accuracy_score \n",
    "# 定义SMOTE模型，random_state相当于随机数种子的作用\n",
    "smo = SMOTE(random_state=42)\n",
    "X,Y = smo.fit_sample(x, y)\n",
    "print(Counter(Y))\n",
    "x_train,x_test,y_train,y_test = train_test_split(X,Y,test_size=0.3,random_state=0)\n",
    "print(len(x_train))\n",
    "print(len(x_test))"
   ]
  },
  {
   "cell_type": "code",
   "execution_count": 6,
   "metadata": {},
   "outputs": [],
   "source": [
    "# 定义ks评分\n",
    "def KS(Y,Y_hat):\n",
    "    data = {\"Y\":Y,\"Y_hat\":Y_hat}\n",
    "    df = pd.DataFrame(data)\n",
    "    bins = np.array([-0.1,0.1,0.2,0.3,0.4,0.5,0.6,0.7,0.8,0.9,1.0])\n",
    "    category = pd.cut(df[\"Y_hat\"],bins=bins)\n",
    "    category = category.sort_values()\n",
    "    #max_index = len(np.unique(df[\"Y_hat\"]))\n",
    "    Y = df.ix[category.index,:]['Y']\n",
    "    Y_hat = df.ix[category.index,:]['Y_hat']\n",
    "    df2 = pd.concat([Y,Y_hat],axis=1)\n",
    "    df3 = pd.pivot_table(df2,values = ['Y_hat'],index ='Y_hat',columns='Y',aggfunc=len,fill_value=0)\n",
    "    df4 = np.cumsum(df3)\n",
    "    df5 = df4/df4.iloc[:,1].max()\n",
    "    ks = max(abs(df5.iloc[:,0] - df5.iloc[:,1]))\n",
    "    return ks/len(bins)"
   ]
  },
  {
   "cell_type": "code",
   "execution_count": 7,
   "metadata": {},
   "outputs": [
    {
     "name": "stderr",
     "output_type": "stream",
     "text": [
      "d:\\python3.6\\lib\\site-packages\\ipykernel_launcher.py:9: DeprecationWarning: \n",
      ".ix is deprecated. Please use\n",
      ".loc for label based indexing or\n",
      ".iloc for positional indexing\n",
      "\n",
      "See the documentation here:\n",
      "http://pandas.pydata.org/pandas-docs/stable/indexing.html#ix-indexer-is-deprecated\n",
      "  if __name__ == '__main__':\n",
      "d:\\python3.6\\lib\\site-packages\\ipykernel_launcher.py:10: DeprecationWarning: \n",
      ".ix is deprecated. Please use\n",
      ".loc for label based indexing or\n",
      ".iloc for positional indexing\n",
      "\n",
      "See the documentation here:\n",
      "http://pandas.pydata.org/pandas-docs/stable/indexing.html#ix-indexer-is-deprecated\n",
      "  # Remove the CWD from sys.path while we load stuff.\n"
     ]
    },
    {
     "data": {
      "text/plain": [
       "0.07684062437194346"
      ]
     },
     "execution_count": 7,
     "metadata": {},
     "output_type": "execute_result"
    }
   ],
   "source": [
    "from xgboost import XGBClassifier\n",
    "from xgboost import plot_importance\n",
    "model = XGBClassifier(learning_rate=0.1,\n",
    "                      n_estimators=470,           # 树的个数-10棵树建立xgboost\n",
    "                      max_depth=12,               # 树的深度\n",
    "                      min_child_weight = 1,      # 叶子节点最小权重\n",
    "                      gamma=0.3,                  # 惩罚项中叶子结点个数前的参数\n",
    "                      subsample=1,               # 所有样本建立决策树\n",
    "                      colsample_btree=1,         # 所有特征建立决策树\n",
    "                      random_state=27,           # 随机数\n",
    "                      slient = 0\n",
    "                      )\n",
    "model.fit(x_train,y_train)\n",
    "y_pred=model.predict_proba(x_test)\n",
    "Y_hat=np.array(y_pred)[:,1]\n",
    "KS(y_test,Y_hat)"
   ]
  },
  {
   "cell_type": "code",
   "execution_count": 27,
   "metadata": {},
   "outputs": [
    {
     "data": {
      "text/html": [
       "<div>\n",
       "<style scoped>\n",
       "    .dataframe tbody tr th:only-of-type {\n",
       "        vertical-align: middle;\n",
       "    }\n",
       "\n",
       "    .dataframe tbody tr th {\n",
       "        vertical-align: top;\n",
       "    }\n",
       "\n",
       "    .dataframe thead th {\n",
       "        text-align: right;\n",
       "    }\n",
       "</style>\n",
       "<table border=\"1\" class=\"dataframe\">\n",
       "  <thead>\n",
       "    <tr style=\"text-align: right;\">\n",
       "      <th></th>\n",
       "      <th>sex_0</th>\n",
       "      <th>earning_avg</th>\n",
       "      <th>cur_bill_bal_max</th>\n",
       "      <th>last_bill_amount_max</th>\n",
       "      <th>borrow_cash_max</th>\n",
       "      <th>last_repay_amount_max</th>\n",
       "      <th>cur_bill_minrepay_max</th>\n",
       "      <th>last_repay_amount_median</th>\n",
       "      <th>last_repay_amount_mean</th>\n",
       "      <th>credit_amount_max</th>\n",
       "      <th>...</th>\n",
       "      <th>adjust_amount_sum</th>\n",
       "      <th>last_repay_amount_var - last_bill_amount_var</th>\n",
       "      <th>brows_num before lending_9</th>\n",
       "      <th>repay_status_var</th>\n",
       "      <th>repay_status_mean</th>\n",
       "      <th>avail_bal_median</th>\n",
       "      <th>avail_bal_min - borrow_cash_min</th>\n",
       "      <th>education_1</th>\n",
       "      <th>avail_bal_std</th>\n",
       "      <th>adjust_amount_mean</th>\n",
       "    </tr>\n",
       "  </thead>\n",
       "  <tbody>\n",
       "    <tr>\n",
       "      <th>0</th>\n",
       "      <td>0</td>\n",
       "      <td>5.196190</td>\n",
       "      <td>3.022935e-01</td>\n",
       "      <td>4.035668e-01</td>\n",
       "      <td>5.520894e-01</td>\n",
       "      <td>3.844486e-01</td>\n",
       "      <td>2.227774e-01</td>\n",
       "      <td>-1.775067e-01</td>\n",
       "      <td>-4.062762e-01</td>\n",
       "      <td>3.470865e-01</td>\n",
       "      <td>...</td>\n",
       "      <td>-1.742170e-02</td>\n",
       "      <td>2.531970e-01</td>\n",
       "      <td>-0.115787</td>\n",
       "      <td>-2.816525e-02</td>\n",
       "      <td>-2.343536e-02</td>\n",
       "      <td>-1.263734e-01</td>\n",
       "      <td>5.987055e-01</td>\n",
       "      <td>0</td>\n",
       "      <td>2.370526</td>\n",
       "      <td>-2.441470e-02</td>\n",
       "    </tr>\n",
       "    <tr>\n",
       "      <th>1</th>\n",
       "      <td>0</td>\n",
       "      <td>0.817572</td>\n",
       "      <td>6.419666e-02</td>\n",
       "      <td>4.497680e-01</td>\n",
       "      <td>6.469952e-01</td>\n",
       "      <td>4.442306e-01</td>\n",
       "      <td>1.524739e-01</td>\n",
       "      <td>6.557869e-01</td>\n",
       "      <td>7.601876e-01</td>\n",
       "      <td>3.883012e-01</td>\n",
       "      <td>...</td>\n",
       "      <td>-1.742170e-02</td>\n",
       "      <td>-3.148047e-01</td>\n",
       "      <td>-0.115787</td>\n",
       "      <td>-2.816525e-02</td>\n",
       "      <td>-2.343536e-02</td>\n",
       "      <td>-1.263734e-01</td>\n",
       "      <td>5.987055e-01</td>\n",
       "      <td>0</td>\n",
       "      <td>-0.319200</td>\n",
       "      <td>-2.441470e-02</td>\n",
       "    </tr>\n",
       "    <tr>\n",
       "      <th>2</th>\n",
       "      <td>0</td>\n",
       "      <td>0.072266</td>\n",
       "      <td>-1.636578e-01</td>\n",
       "      <td>-2.466690e+00</td>\n",
       "      <td>-1.890427e+00</td>\n",
       "      <td>-2.613476e+00</td>\n",
       "      <td>-5.122171e-01</td>\n",
       "      <td>-1.684127e+00</td>\n",
       "      <td>-1.976238e+00</td>\n",
       "      <td>1.853878e-01</td>\n",
       "      <td>...</td>\n",
       "      <td>-1.742170e-02</td>\n",
       "      <td>3.225024e-01</td>\n",
       "      <td>-0.115787</td>\n",
       "      <td>-2.816525e-02</td>\n",
       "      <td>-2.343536e-02</td>\n",
       "      <td>-1.263734e-01</td>\n",
       "      <td>5.987055e-01</td>\n",
       "      <td>0</td>\n",
       "      <td>-0.319200</td>\n",
       "      <td>-2.441470e-02</td>\n",
       "    </tr>\n",
       "    <tr>\n",
       "      <th>3</th>\n",
       "      <td>0</td>\n",
       "      <td>0.072266</td>\n",
       "      <td>-5.176291e-01</td>\n",
       "      <td>2.597205e-01</td>\n",
       "      <td>6.828189e-01</td>\n",
       "      <td>2.959261e-01</td>\n",
       "      <td>-7.061846e-02</td>\n",
       "      <td>6.610157e-01</td>\n",
       "      <td>1.036403e+00</td>\n",
       "      <td>4.414360e-01</td>\n",
       "      <td>...</td>\n",
       "      <td>-1.742170e-02</td>\n",
       "      <td>-3.209859e+00</td>\n",
       "      <td>-0.115787</td>\n",
       "      <td>-2.816525e-02</td>\n",
       "      <td>-2.343536e-02</td>\n",
       "      <td>-1.263734e-01</td>\n",
       "      <td>-1.933778e+00</td>\n",
       "      <td>0</td>\n",
       "      <td>-0.319200</td>\n",
       "      <td>-2.441470e-02</td>\n",
       "    </tr>\n",
       "    <tr>\n",
       "      <th>4</th>\n",
       "      <td>0</td>\n",
       "      <td>-0.312316</td>\n",
       "      <td>-1.769490e-14</td>\n",
       "      <td>2.017567e-15</td>\n",
       "      <td>-2.964101e-14</td>\n",
       "      <td>6.387110e-15</td>\n",
       "      <td>2.855472e-14</td>\n",
       "      <td>1.179267e-14</td>\n",
       "      <td>-1.015493e-14</td>\n",
       "      <td>-6.168145e-14</td>\n",
       "      <td>...</td>\n",
       "      <td>1.299292e-17</td>\n",
       "      <td>-8.651885e-16</td>\n",
       "      <td>-0.115787</td>\n",
       "      <td>-5.052635e-18</td>\n",
       "      <td>-8.097164e-18</td>\n",
       "      <td>-7.499588e-17</td>\n",
       "      <td>6.644972e-15</td>\n",
       "      <td>0</td>\n",
       "      <td>0.000000</td>\n",
       "      <td>3.814837e-18</td>\n",
       "    </tr>\n",
       "  </tbody>\n",
       "</table>\n",
       "<p>5 rows × 128 columns</p>\n",
       "</div>"
      ],
      "text/plain": [
       "   sex_0  earning_avg  cur_bill_bal_max  last_bill_amount_max  \\\n",
       "0      0     5.196190      3.022935e-01          4.035668e-01   \n",
       "1      0     0.817572      6.419666e-02          4.497680e-01   \n",
       "2      0     0.072266     -1.636578e-01         -2.466690e+00   \n",
       "3      0     0.072266     -5.176291e-01          2.597205e-01   \n",
       "4      0    -0.312316     -1.769490e-14          2.017567e-15   \n",
       "\n",
       "   borrow_cash_max  last_repay_amount_max  cur_bill_minrepay_max  \\\n",
       "0     5.520894e-01           3.844486e-01           2.227774e-01   \n",
       "1     6.469952e-01           4.442306e-01           1.524739e-01   \n",
       "2    -1.890427e+00          -2.613476e+00          -5.122171e-01   \n",
       "3     6.828189e-01           2.959261e-01          -7.061846e-02   \n",
       "4    -2.964101e-14           6.387110e-15           2.855472e-14   \n",
       "\n",
       "   last_repay_amount_median  last_repay_amount_mean  credit_amount_max  \\\n",
       "0             -1.775067e-01           -4.062762e-01       3.470865e-01   \n",
       "1              6.557869e-01            7.601876e-01       3.883012e-01   \n",
       "2             -1.684127e+00           -1.976238e+00       1.853878e-01   \n",
       "3              6.610157e-01            1.036403e+00       4.414360e-01   \n",
       "4              1.179267e-14           -1.015493e-14      -6.168145e-14   \n",
       "\n",
       "          ...          adjust_amount_sum  \\\n",
       "0         ...              -1.742170e-02   \n",
       "1         ...              -1.742170e-02   \n",
       "2         ...              -1.742170e-02   \n",
       "3         ...              -1.742170e-02   \n",
       "4         ...               1.299292e-17   \n",
       "\n",
       "   last_repay_amount_var - last_bill_amount_var  brows_num before lending_9  \\\n",
       "0                                  2.531970e-01                   -0.115787   \n",
       "1                                 -3.148047e-01                   -0.115787   \n",
       "2                                  3.225024e-01                   -0.115787   \n",
       "3                                 -3.209859e+00                   -0.115787   \n",
       "4                                 -8.651885e-16                   -0.115787   \n",
       "\n",
       "   repay_status_var  repay_status_mean  avail_bal_median  \\\n",
       "0     -2.816525e-02      -2.343536e-02     -1.263734e-01   \n",
       "1     -2.816525e-02      -2.343536e-02     -1.263734e-01   \n",
       "2     -2.816525e-02      -2.343536e-02     -1.263734e-01   \n",
       "3     -2.816525e-02      -2.343536e-02     -1.263734e-01   \n",
       "4     -5.052635e-18      -8.097164e-18     -7.499588e-17   \n",
       "\n",
       "   avail_bal_min - borrow_cash_min  education_1  avail_bal_std  \\\n",
       "0                     5.987055e-01            0       2.370526   \n",
       "1                     5.987055e-01            0      -0.319200   \n",
       "2                     5.987055e-01            0      -0.319200   \n",
       "3                    -1.933778e+00            0      -0.319200   \n",
       "4                     6.644972e-15            0       0.000000   \n",
       "\n",
       "   adjust_amount_mean  \n",
       "0       -2.441470e-02  \n",
       "1       -2.441470e-02  \n",
       "2       -2.441470e-02  \n",
       "3       -2.441470e-02  \n",
       "4        3.814837e-18  \n",
       "\n",
       "[5 rows x 128 columns]"
      ]
     },
     "execution_count": 27,
     "metadata": {},
     "output_type": "execute_result"
    }
   ],
   "source": [
    "test=pd.read_csv('test/test_128.csv',index_col=0)\n",
    "test.head()"
   ]
  },
  {
   "cell_type": "code",
   "execution_count": 28,
   "metadata": {},
   "outputs": [
    {
     "data": {
      "text/plain": [
       "(13899, 128)"
      ]
     },
     "execution_count": 28,
     "metadata": {},
     "output_type": "execute_result"
    }
   ],
   "source": [
    "test.shape"
   ]
  },
  {
   "cell_type": "code",
   "execution_count": null,
   "metadata": {},
   "outputs": [],
   "source": []
  },
  {
   "cell_type": "code",
   "execution_count": 30,
   "metadata": {},
   "outputs": [],
   "source": [
    "test=np.array(test)\n",
    "model.fit(x_train,y_train)\n",
    "y_pred=model.predict_proba(test)"
   ]
  },
  {
   "cell_type": "code",
   "execution_count": 31,
   "metadata": {},
   "outputs": [
    {
     "data": {
      "text/plain": [
       "(13899, 2)"
      ]
     },
     "execution_count": 31,
     "metadata": {},
     "output_type": "execute_result"
    }
   ],
   "source": [
    "y_pred.shape"
   ]
  },
  {
   "cell_type": "code",
   "execution_count": 32,
   "metadata": {},
   "outputs": [],
   "source": [
    "label=pd.DataFrame(y_pred,columns=['probability0','probability'])"
   ]
  },
  {
   "cell_type": "code",
   "execution_count": 33,
   "metadata": {},
   "outputs": [],
   "source": [
    "label=label.drop(['probability0'],axis=1)"
   ]
  },
  {
   "cell_type": "code",
   "execution_count": 34,
   "metadata": {},
   "outputs": [
    {
     "data": {
      "text/html": [
       "<div>\n",
       "<style scoped>\n",
       "    .dataframe tbody tr th:only-of-type {\n",
       "        vertical-align: middle;\n",
       "    }\n",
       "\n",
       "    .dataframe tbody tr th {\n",
       "        vertical-align: top;\n",
       "    }\n",
       "\n",
       "    .dataframe thead th {\n",
       "        text-align: right;\n",
       "    }\n",
       "</style>\n",
       "<table border=\"1\" class=\"dataframe\">\n",
       "  <thead>\n",
       "    <tr style=\"text-align: right;\">\n",
       "      <th></th>\n",
       "      <th>probability</th>\n",
       "    </tr>\n",
       "  </thead>\n",
       "  <tbody>\n",
       "    <tr>\n",
       "      <th>0</th>\n",
       "      <td>0.578330</td>\n",
       "    </tr>\n",
       "    <tr>\n",
       "      <th>1</th>\n",
       "      <td>0.036506</td>\n",
       "    </tr>\n",
       "    <tr>\n",
       "      <th>2</th>\n",
       "      <td>0.748826</td>\n",
       "    </tr>\n",
       "    <tr>\n",
       "      <th>3</th>\n",
       "      <td>0.053070</td>\n",
       "    </tr>\n",
       "    <tr>\n",
       "      <th>4</th>\n",
       "      <td>0.591049</td>\n",
       "    </tr>\n",
       "  </tbody>\n",
       "</table>\n",
       "</div>"
      ],
      "text/plain": [
       "   probability\n",
       "0     0.578330\n",
       "1     0.036506\n",
       "2     0.748826\n",
       "3     0.053070\n",
       "4     0.591049"
      ]
     },
     "execution_count": 34,
     "metadata": {},
     "output_type": "execute_result"
    }
   ],
   "source": [
    "label.head()"
   ]
  },
  {
   "cell_type": "code",
   "execution_count": 35,
   "metadata": {},
   "outputs": [],
   "source": [
    "label.to_csv('test/tijao.csv')"
   ]
  },
  {
   "cell_type": "code",
   "execution_count": null,
   "metadata": {},
   "outputs": [],
   "source": [
    "\n",
    "\n",
    "KS_score = make_scorer(KS, greater_is_better=True, needs_proba = True)\n",
    "\n",
    "scoring = { 'KS': KS_score}\n",
    "\n",
    "gsearch = GridSearchCV(estimator = bestclf, param_grid = param_test,scoring=scoring, n_jobs=1,cv=ps, refit ='AR')\n"
   ]
  },
  {
   "cell_type": "code",
   "execution_count": 9,
   "metadata": {},
   "outputs": [],
   "source": [
    "from sklearn.metrics import make_scorer\n",
    "from sklearn.model_selection import GridSearchCV\n",
    "#网格搜索进行参数调优\n",
    "tuned_parameters = [{'kernel': ['rbf'], 'gamma': [1e-3, 1e-4],'C': [1, 10, 100, 1000]},\n",
    "                    {'kernel': ['poly'],'gamma': [1e-3, 1e-4],'C': [1, 10, 100, 1000]}]"
   ]
  },
  {
   "cell_type": "code",
   "execution_count": 27,
   "metadata": {},
   "outputs": [
    {
     "data": {
      "text/plain": [
       "\"#print(clf.grid_scores_, clf.best_params_,clf.best_score_)\\nbest_index_ks = np.nonzero(Grisearch.cv_results_['rank_test_KS'] == 1)[0][0]\\nbest_score_ks = Gridsearch.cv_results_['mean_test_KS'][best_index_ks]\""
      ]
     },
     "execution_count": 27,
     "metadata": {},
     "output_type": "execute_result"
    }
   ],
   "source": [
    "from sklearn.svm import SVC\n",
    "#调用SVC()\n",
    "clf = GridSearchCV(SVC(),tuned_parameters, n_jobs=1,cv=5, refit ='KS')\n",
    "#fit()训练\n",
    "clf.fit(x_train,y_train)\n",
    "\"\"\"y_pred=model.predict_proba(x_test)\n",
    "Y_hat=np.array(y_pred)[:,1]\n",
    "KS(y_test,Y_hat)\"\"\"\n",
    "#print(clf.grid_scores_, clf.best_params_,clf.best_score_)\n",
    "best_index_ks = np.nonzero(Grisearch.cv_results_['rank_test_KS'] == 1)[0][0]\n",
    "best_score_ks = Gridsearch.cv_results_['mean_test_KS'][best_index_ks]"
   ]
  }
 ],
 "metadata": {
  "kernelspec": {
   "display_name": "Python 3",
   "language": "python",
   "name": "python3"
  },
  "language_info": {
   "codemirror_mode": {
    "name": "ipython",
    "version": 3
   },
   "file_extension": ".py",
   "mimetype": "text/x-python",
   "name": "python",
   "nbconvert_exporter": "python",
   "pygments_lexer": "ipython3",
   "version": "3.6.5"
  }
 },
 "nbformat": 4,
 "nbformat_minor": 2
}
