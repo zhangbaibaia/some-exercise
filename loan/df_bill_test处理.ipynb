{
 "cells": [
  {
   "cell_type": "code",
   "execution_count": 1,
   "metadata": {
    "ExecuteTime": {
     "end_time": "2019-01-04T06:07:50.341684Z",
     "start_time": "2019-01-04T06:07:47.389419Z"
    }
   },
   "outputs": [],
   "source": [
    "import pandas as pd\n",
    "import numpy as np \n",
    "import matplotlib.pyplot as plt\n",
    "import seaborn as sns\n",
    "%matplotlib inline"
   ]
  },
  {
   "cell_type": "code",
   "execution_count": 2,
   "metadata": {
    "ExecuteTime": {
     "end_time": "2019-01-04T06:07:51.230272Z",
     "start_time": "2019-01-04T06:07:50.341684Z"
    }
   },
   "outputs": [],
   "source": [
    "df_bill_test = pd.read_csv(\n",
    "    'C:\\\\Users\\\\lkl\\\\Desktop\\\\competition\\\\forward\\\\df_bill_test.csv', index_col=0)  # 账单记录表"
   ]
  },
  {
   "cell_type": "code",
   "execution_count": 3,
   "metadata": {
    "ExecuteTime": {
     "end_time": "2019-01-04T06:07:51.254180Z",
     "start_time": "2019-01-04T06:07:51.231235Z"
    }
   },
   "outputs": [
    {
     "data": {
      "text/html": [
       "<div>\n",
       "<style scoped>\n",
       "    .dataframe tbody tr th:only-of-type {\n",
       "        vertical-align: middle;\n",
       "    }\n",
       "\n",
       "    .dataframe tbody tr th {\n",
       "        vertical-align: top;\n",
       "    }\n",
       "\n",
       "    .dataframe thead th {\n",
       "        text-align: right;\n",
       "    }\n",
       "</style>\n",
       "<table border=\"1\" class=\"dataframe\">\n",
       "  <thead>\n",
       "    <tr style=\"text-align: right;\">\n",
       "      <th></th>\n",
       "      <th>user_id</th>\n",
       "      <th>time</th>\n",
       "      <th>bank_id</th>\n",
       "      <th>last_bill_amount</th>\n",
       "      <th>last_repay_amount</th>\n",
       "      <th>credit_amount</th>\n",
       "      <th>cur_bill_bal</th>\n",
       "      <th>cur_bill_minrepay</th>\n",
       "      <th>cons_num</th>\n",
       "      <th>cur_bill_amount</th>\n",
       "      <th>adjust_amount</th>\n",
       "      <th>cyclic_accr</th>\n",
       "      <th>avail_bal</th>\n",
       "      <th>borrow_cash</th>\n",
       "      <th>repay_status</th>\n",
       "    </tr>\n",
       "  </thead>\n",
       "  <tbody>\n",
       "    <tr>\n",
       "      <th>0</th>\n",
       "      <td>57189</td>\n",
       "      <td>0</td>\n",
       "      <td>7</td>\n",
       "      <td>13.938985</td>\n",
       "      <td>0.000000</td>\n",
       "      <td>19.054980</td>\n",
       "      <td>19.041388</td>\n",
       "      <td>16.888236</td>\n",
       "      <td>0</td>\n",
       "      <td>19.035287</td>\n",
       "      <td>0.0</td>\n",
       "      <td>0.0</td>\n",
       "      <td>19.041388</td>\n",
       "      <td>18.361833</td>\n",
       "      <td>0</td>\n",
       "    </tr>\n",
       "    <tr>\n",
       "      <th>1</th>\n",
       "      <td>57189</td>\n",
       "      <td>5919348687</td>\n",
       "      <td>16</td>\n",
       "      <td>0.000000</td>\n",
       "      <td>0.000000</td>\n",
       "      <td>19.614596</td>\n",
       "      <td>19.631273</td>\n",
       "      <td>16.921293</td>\n",
       "      <td>2</td>\n",
       "      <td>0.000000</td>\n",
       "      <td>0.0</td>\n",
       "      <td>0.0</td>\n",
       "      <td>0.000000</td>\n",
       "      <td>19.614596</td>\n",
       "      <td>0</td>\n",
       "    </tr>\n",
       "    <tr>\n",
       "      <th>2</th>\n",
       "      <td>57189</td>\n",
       "      <td>5919348687</td>\n",
       "      <td>4</td>\n",
       "      <td>0.000000</td>\n",
       "      <td>0.000000</td>\n",
       "      <td>19.971271</td>\n",
       "      <td>19.983385</td>\n",
       "      <td>17.682588</td>\n",
       "      <td>2</td>\n",
       "      <td>0.000000</td>\n",
       "      <td>0.0</td>\n",
       "      <td>0.0</td>\n",
       "      <td>0.000000</td>\n",
       "      <td>0.000000</td>\n",
       "      <td>0</td>\n",
       "    </tr>\n",
       "    <tr>\n",
       "      <th>3</th>\n",
       "      <td>57189</td>\n",
       "      <td>5919348687</td>\n",
       "      <td>4</td>\n",
       "      <td>20.195572</td>\n",
       "      <td>18.005158</td>\n",
       "      <td>19.971271</td>\n",
       "      <td>20.182494</td>\n",
       "      <td>17.880566</td>\n",
       "      <td>4</td>\n",
       "      <td>17.881698</td>\n",
       "      <td>0.0</td>\n",
       "      <td>0.0</td>\n",
       "      <td>0.000000</td>\n",
       "      <td>0.000000</td>\n",
       "      <td>0</td>\n",
       "    </tr>\n",
       "    <tr>\n",
       "      <th>4</th>\n",
       "      <td>57189</td>\n",
       "      <td>5919348687</td>\n",
       "      <td>3</td>\n",
       "      <td>0.000000</td>\n",
       "      <td>0.000000</td>\n",
       "      <td>20.846739</td>\n",
       "      <td>20.846682</td>\n",
       "      <td>18.679239</td>\n",
       "      <td>0</td>\n",
       "      <td>0.000000</td>\n",
       "      <td>0.0</td>\n",
       "      <td>0.0</td>\n",
       "      <td>0.000000</td>\n",
       "      <td>0.000000</td>\n",
       "      <td>0</td>\n",
       "    </tr>\n",
       "  </tbody>\n",
       "</table>\n",
       "</div>"
      ],
      "text/plain": [
       "   user_id        time  bank_id  last_bill_amount  last_repay_amount  \\\n",
       "0    57189           0        7         13.938985           0.000000   \n",
       "1    57189  5919348687       16          0.000000           0.000000   \n",
       "2    57189  5919348687        4          0.000000           0.000000   \n",
       "3    57189  5919348687        4         20.195572          18.005158   \n",
       "4    57189  5919348687        3          0.000000           0.000000   \n",
       "\n",
       "   credit_amount  cur_bill_bal  cur_bill_minrepay  cons_num  cur_bill_amount  \\\n",
       "0      19.054980     19.041388          16.888236         0        19.035287   \n",
       "1      19.614596     19.631273          16.921293         2         0.000000   \n",
       "2      19.971271     19.983385          17.682588         2         0.000000   \n",
       "3      19.971271     20.182494          17.880566         4        17.881698   \n",
       "4      20.846739     20.846682          18.679239         0         0.000000   \n",
       "\n",
       "   adjust_amount  cyclic_accr  avail_bal  borrow_cash  repay_status  \n",
       "0            0.0          0.0  19.041388    18.361833             0  \n",
       "1            0.0          0.0   0.000000    19.614596             0  \n",
       "2            0.0          0.0   0.000000     0.000000             0  \n",
       "3            0.0          0.0   0.000000     0.000000             0  \n",
       "4            0.0          0.0   0.000000     0.000000             0  "
      ]
     },
     "execution_count": 3,
     "metadata": {},
     "output_type": "execute_result"
    }
   ],
   "source": [
    "df_bill_test.head()"
   ]
  },
  {
   "cell_type": "code",
   "execution_count": 4,
   "metadata": {
    "ExecuteTime": {
     "end_time": "2019-01-04T06:07:51.338976Z",
     "start_time": "2019-01-04T06:07:51.256170Z"
    }
   },
   "outputs": [
    {
     "data": {
      "text/html": [
       "<div>\n",
       "<style scoped>\n",
       "    .dataframe tbody tr th:only-of-type {\n",
       "        vertical-align: middle;\n",
       "    }\n",
       "\n",
       "    .dataframe tbody tr th {\n",
       "        vertical-align: top;\n",
       "    }\n",
       "\n",
       "    .dataframe thead th {\n",
       "        text-align: right;\n",
       "    }\n",
       "</style>\n",
       "<table border=\"1\" class=\"dataframe\">\n",
       "  <thead>\n",
       "    <tr style=\"text-align: right;\">\n",
       "      <th></th>\n",
       "      <th>user_id</th>\n",
       "      <th>time</th>\n",
       "      <th>bank_id</th>\n",
       "      <th>last_bill_amount</th>\n",
       "      <th>last_repay_amount</th>\n",
       "      <th>credit_amount</th>\n",
       "      <th>cur_bill_bal</th>\n",
       "      <th>cur_bill_minrepay</th>\n",
       "      <th>cons_num</th>\n",
       "      <th>cur_bill_amount</th>\n",
       "      <th>adjust_amount</th>\n",
       "      <th>cyclic_accr</th>\n",
       "      <th>avail_bal</th>\n",
       "      <th>borrow_cash</th>\n",
       "      <th>repay_status</th>\n",
       "    </tr>\n",
       "  </thead>\n",
       "  <tbody>\n",
       "    <tr>\n",
       "      <th>0</th>\n",
       "      <td>57189</td>\n",
       "      <td>0</td>\n",
       "      <td>7</td>\n",
       "      <td>13.938985</td>\n",
       "      <td>0.0</td>\n",
       "      <td>19.05498</td>\n",
       "      <td>19.041388</td>\n",
       "      <td>16.888236</td>\n",
       "      <td>0</td>\n",
       "      <td>19.035287</td>\n",
       "      <td>0.0</td>\n",
       "      <td>0.0</td>\n",
       "      <td>19.041388</td>\n",
       "      <td>18.361833</td>\n",
       "      <td>0</td>\n",
       "    </tr>\n",
       "  </tbody>\n",
       "</table>\n",
       "</div>"
      ],
      "text/plain": [
       "   user_id  time  bank_id  last_bill_amount  last_repay_amount  credit_amount  \\\n",
       "0    57189     0        7         13.938985                0.0       19.05498   \n",
       "\n",
       "   cur_bill_bal  cur_bill_minrepay  cons_num  cur_bill_amount  adjust_amount  \\\n",
       "0     19.041388          16.888236         0        19.035287            0.0   \n",
       "\n",
       "   cyclic_accr  avail_bal  borrow_cash  repay_status  \n",
       "0          0.0  19.041388    18.361833             0  "
      ]
     },
     "execution_count": 4,
     "metadata": {},
     "output_type": "execute_result"
    }
   ],
   "source": [
    "df_bill_test[df_bill_test['time'] == 0]"
   ]
  },
  {
   "cell_type": "code",
   "execution_count": 5,
   "metadata": {
    "ExecuteTime": {
     "end_time": "2019-01-04T06:07:51.497567Z",
     "start_time": "2019-01-04T06:07:51.340945Z"
    }
   },
   "outputs": [],
   "source": [
    "df_bill_test.loc[0,'time'] = 5919348687"
   ]
  },
  {
   "cell_type": "code",
   "execution_count": 6,
   "metadata": {
    "ExecuteTime": {
     "end_time": "2019-01-04T06:07:51.580303Z",
     "start_time": "2019-01-04T06:07:51.499553Z"
    }
   },
   "outputs": [
    {
     "data": {
      "text/plain": [
       "(414895, 15)"
      ]
     },
     "execution_count": 6,
     "metadata": {},
     "output_type": "execute_result"
    }
   ],
   "source": [
    "df_bill_test.shape"
   ]
  },
  {
   "cell_type": "code",
   "execution_count": 7,
   "metadata": {
    "ExecuteTime": {
     "end_time": "2019-01-04T06:07:51.657140Z",
     "start_time": "2019-01-04T06:07:51.581300Z"
    }
   },
   "outputs": [
    {
     "name": "stdout",
     "output_type": "stream",
     "text": [
      "13643\n"
     ]
    }
   ],
   "source": [
    "print(len(df_bill_test.user_id.unique()))"
   ]
  },
  {
   "cell_type": "code",
   "execution_count": 8,
   "metadata": {
    "ExecuteTime": {
     "end_time": "2019-01-04T06:07:51.679039Z",
     "start_time": "2019-01-04T06:07:51.659092Z"
    }
   },
   "outputs": [],
   "source": [
    "columns3 = ['user_id','time']\n",
    "df_loan_test = pd.read_table(\n",
    "    'C:\\\\Users\\\\lkl\\\\Desktop\\\\Prediction of User Loan Risk\\\\test\\\\loan_time_test.txt', names=columns3, sep=',')  # 放款时间表"
   ]
  },
  {
   "cell_type": "code",
   "execution_count": 9,
   "metadata": {
    "ExecuteTime": {
     "end_time": "2019-01-04T06:07:51.926411Z",
     "start_time": "2019-01-04T06:07:51.681068Z"
    }
   },
   "outputs": [
    {
     "name": "stdout",
     "output_type": "stream",
     "text": [
      "<class 'pandas.core.frame.DataFrame'>\n",
      "Int64Index: 12029 entries, 0 to 414893\n",
      "Data columns (total 1 columns):\n",
      "user_id    12029 non-null int64\n",
      "dtypes: int64(1)\n",
      "memory usage: 188.0 KB\n"
     ]
    }
   ],
   "source": [
    "#筛选符合条件的账单记录表的用户id\n",
    "df1 = pd.merge(left = df_bill_test, right= df_loan_test, how = 'left',on = 'user_id')\n",
    "t1 = df1[(df1['time_x']<=df1['time_y'])]\n",
    "bill_user = t1[['user_id']]\n",
    "bill_user = bill_user.drop_duplicates(subset = 'user_id',keep='first')\n",
    "bill_user.info()\n",
    "#账单记录表中符合条件的还有46739个不同用户。"
   ]
  },
  {
   "cell_type": "code",
   "execution_count": 10,
   "metadata": {
    "ExecuteTime": {
     "end_time": "2019-01-04T06:07:52.414228Z",
     "start_time": "2019-01-04T06:07:51.928410Z"
    }
   },
   "outputs": [],
   "source": [
    "#补充特征，增加放款前账单记录表的各种统计信息sum count max min mean median std var等\n",
    "bill_select = pd.merge(left=df_bill_test,right = bill_user,how='inner',on='user_id')\n",
    "bill_select.drop(['time','bank_id'], axis=1, inplace=True)\n",
    "e1=bill_select.groupby(['user_id'], as_index=False)\n",
    "f1= e1['last_bill_amount','last_repay_amount','credit_amount','cur_bill_bal','cur_bill_minrepay','cons_num','cur_bill_amount','adjust_amount',\n",
    "       'cyclic_accr','avail_bal','borrow_cash','repay_status']\n",
    "\n",
    "bill_select_sum = f1.sum()\n",
    "bill_select_sum.columns = ['user_id','last_bill_amount_sum','last_repay_amount_sum','credit_amount_sum','cur_bill_bal_sum',\n",
    "                           'cur_bill_minrepay_sum','cons_num_sum','cur_bill_amount_sum','adjust_amount_sum','cyclic_accr_sum',\n",
    "                           'avail_bal_sum','borrow_cash_sum','repay_status_sum']\n",
    "\n",
    "bill_select_count=f1.count()\n",
    "bill_select_count.columns = ['user_id', 'last_bill_amount_count', 'last_repay_amount_count','credit_amount_count','cur_bill_bal_count',\n",
    "                             'cur_bill_minrepay_count','cons_num_count','cur_bill_amount_count','adjust_amount_count','cyclic_accr_count',\n",
    "                             'avail_bal_count','borrow_cash_count','repay_status_count']\n",
    "\n",
    "bill_select_max=f1.max()\n",
    "bill_select_max.columns = ['user_id', 'last_bill_amount_max', 'last_repay_amount_max','credit_amount_max','cur_bill_bal_max',\n",
    "                     'cur_bill_minrepay_max','cons_num_max','cur_bill_amount_max','adjust_amount_max','cyclic_accr_max',\n",
    "                     'avail_bal_max','borrow_cash_max','repay_status_max']\n",
    "\n",
    "bill_select_min=f1.min()\n",
    "bill_select_min.columns = ['user_id', 'last_bill_amount_min', 'last_repay_amount_min','credit_amount_min','cur_bill_bal_min',\n",
    "                     'cur_bill_minrepay_min','cons_num_min','cur_bill_amount_min','adjust_amount_min','cyclic_accr_min',\n",
    "                     'avail_bal_min','borrow_cash_min','repay_status_min']\n",
    "\n",
    "bill_select_mean=f1.mean()\n",
    "bill_select_mean.columns = ['user_id', 'last_bill_amount_mean', 'last_repay_amount_mean','credit_amount_mean','cur_bill_bal_mean',\n",
    "                     'cur_bill_minrepay_mean','cons_num_mean','cur_bill_amount_mean','adjust_amount_mean','cyclic_accr_mean',\n",
    "                     'avail_bal_mean','borrow_cash_mean','repay_status_mean']\n",
    "\n",
    "bill_select_median=f1.median()\n",
    "bill_select_median.columns = ['user_id', 'last_bill_amount_median', 'last_repay_amount_median','credit_amount_median','cur_bill_bal_median',\n",
    "                     'cur_bill_minrepay_median','cons_num_median','cur_bill_amount_median','adjust_amount_median','cyclic_accr_median',\n",
    "                     'avail_bal_median','borrow_cash_median','repay_status_median']\n",
    "\n",
    "bill_select_std=f1.std()\n",
    "bill_select_std.columns = ['user_id', 'last_bill_amount_std', 'last_repay_amount_std','credit_amount_std','cur_bill_bal_std',\n",
    "                     'cur_bill_minrepay_std','cons_num_std','cur_bill_amount_std','adjust_amount_std','cyclic_accr_std',\n",
    "                     'avail_bal_std','borrow_cash_std','repay_status_std']\n",
    "\n",
    "bill_select_var=f1.var()\n",
    "bill_select_var.columns = ['user_id', 'last_bill_amount_var', 'last_repay_amount_var','credit_amount_var','cur_bill_bal_var',\n",
    "                     'cur_bill_minrepay_var','cons_num_var','cur_bill_amount_var','adjust_amount_var','cyclic_accr_var',\n",
    "                     'avail_bal_var','borrow_cash_var','repay_status_var']"
   ]
  },
  {
   "cell_type": "code",
   "execution_count": 11,
   "metadata": {
    "ExecuteTime": {
     "end_time": "2019-01-04T06:07:52.422188Z",
     "start_time": "2019-01-04T06:07:52.415204Z"
    }
   },
   "outputs": [],
   "source": [
    "bill_select_std = bill_select_std.fillna(0)\n",
    "bill_select_var = bill_select_var.fillna(0)"
   ]
  },
  {
   "cell_type": "code",
   "execution_count": 12,
   "metadata": {
    "ExecuteTime": {
     "end_time": "2019-01-04T06:07:52.492985Z",
     "start_time": "2019-01-04T06:07:52.424169Z"
    }
   },
   "outputs": [
    {
     "data": {
      "text/plain": [
       "(12029, 97)"
      ]
     },
     "execution_count": 12,
     "metadata": {},
     "output_type": "execute_result"
    }
   ],
   "source": [
    "bill_select = pd.merge(left=bill_select_sum,right =bill_select_count,how = 'left',on='user_id')\n",
    "bill_select = pd.merge(left=bill_select,right =bill_select_max,how = 'left',on='user_id')\n",
    "bill_select = pd.merge(left=bill_select,right =bill_select_min,how = 'left',on='user_id')\n",
    "bill_select = pd.merge(left=bill_select,right =bill_select_mean,how = 'left',on='user_id')\n",
    "bill_select = pd.merge(left=bill_select,right =bill_select_median,how = 'left',on='user_id')\n",
    "bill_select_std.drop(['user_id'], axis=1, inplace=True)\n",
    "bill_select_var.drop(['user_id'], axis=1, inplace=True)\n",
    "bill_select = bill_select.join(bill_select_std)\n",
    "bill_select = bill_select.join(bill_select_var)\n",
    "#bill_select = pd.merge(left=bill_select,right =bill_select_std,how = 'left',on='user_id')\n",
    "#bill_select = pd.merge(left=bill_select,right =bill_select_var,how = 'left',on='user_id')\n",
    "bill_select.shape"
   ]
  },
  {
   "cell_type": "code",
   "execution_count": 13,
   "metadata": {
    "ExecuteTime": {
     "end_time": "2019-01-04T06:07:52.586732Z",
     "start_time": "2019-01-04T06:07:52.493978Z"
    }
   },
   "outputs": [
    {
     "data": {
      "text/plain": [
       "(12029, 125)"
      ]
     },
     "execution_count": 13,
     "metadata": {},
     "output_type": "execute_result"
    }
   ],
   "source": [
    "bill_select['last_repay_amount_sum - last_bill_amount_sum']=bill_select_sum['last_repay_amount_sum']-bill_select_sum['last_bill_amount_sum']\n",
    "bill_select['credit_amount_sum - cur_bill_bal_sum']=bill_select_sum['credit_amount_sum']-bill_select_sum['cur_bill_bal_sum']\n",
    "bill_select['avail_bal_sum - borrow_cash_sum']=bill_select_sum['avail_bal_sum']-bill_select_sum['borrow_cash_sum']\n",
    "bill_select['cur_bill_minrepay_sum + cyclic_accr_sum']=bill_select_sum['cur_bill_minrepay_sum']+bill_select_sum['cyclic_accr_sum']\n",
    "\n",
    "bill_select['last_repay_amount_max - last_bill_amount_max']=bill_select_max['last_repay_amount_max']-bill_select_max['last_bill_amount_max']\n",
    "bill_select['credit_amount_max - cur_bill_bal_max']=bill_select_max['credit_amount_max']-bill_select_max['cur_bill_bal_max']\n",
    "bill_select['avail_bal_max - borrow_cash_max']=bill_select_max['avail_bal_max']-bill_select_max['borrow_cash_max']\n",
    "bill_select['cur_bill_minrepay_max + cyclic_accr_max']=bill_select_max['cur_bill_minrepay_max']+bill_select_max['cyclic_accr_max']\n",
    "\n",
    "bill_select['last_repay_amount_min - last_bill_amount_min']=bill_select_min['last_repay_amount_min']-bill_select_min['last_bill_amount_min']\n",
    "bill_select['credit_amount_min - cur_bill_bal_min']=bill_select_min['credit_amount_min']-bill_select_min['cur_bill_bal_min']\n",
    "bill_select['avail_bal_min - borrow_cash_min']=bill_select_min['avail_bal_min']-bill_select_min['borrow_cash_min']\n",
    "bill_select['cur_bill_minrepay_min + cyclic_accr_min']=bill_select_min['cur_bill_minrepay_min']+bill_select_min['cyclic_accr_min']\n",
    "\n",
    "bill_select['last_repay_amount_mean - last_bill_amount_mean']=bill_select_mean['last_repay_amount_mean']-bill_select_mean['last_bill_amount_mean']\n",
    "bill_select['credit_amount_mean - cur_bill_bal_mean']=bill_select_mean['credit_amount_mean']-bill_select_mean['cur_bill_bal_mean']\n",
    "bill_select['avail_bal_mean - borrow_cash_mean']=bill_select_mean['avail_bal_mean']-bill_select_mean['borrow_cash_mean']\n",
    "bill_select['cur_bill_minrepay_mean + cyclic_accr_mean']=bill_select_mean['cur_bill_minrepay_mean']+bill_select_mean['cyclic_accr_mean']\n",
    "\n",
    "bill_select['last_repay_amount_median - last_bill_amount_median']=bill_select_median['last_repay_amount_median']-bill_select_median['last_bill_amount_median']\n",
    "bill_select['credit_amount_median - cur_bill_bal_median']=bill_select_median['credit_amount_median']-bill_select_median['cur_bill_bal_median']\n",
    "bill_select['avail_bal_median - borrow_cash_median']=bill_select_median['avail_bal_median']-bill_select_median['borrow_cash_median']\n",
    "bill_select['cur_bill_minrepay_median + cyclic_accr_median']=bill_select_median['cur_bill_minrepay_median']+bill_select_median['cyclic_accr_median']\n",
    "\n",
    "bill_select['last_repay_amount_std - last_bill_amount_std']=bill_select_std['last_repay_amount_std']-bill_select_std['last_bill_amount_std']\n",
    "bill_select['credit_amount_std - cur_bill_bal_std']=bill_select_std['credit_amount_std']-bill_select_std['cur_bill_bal_std']\n",
    "bill_select['avail_bal_std - borrow_cash_std']=bill_select_std['avail_bal_std']-bill_select_std['borrow_cash_std']\n",
    "bill_select['cur_bill_minrepay_std + cyclic_accr_std']=bill_select_std['cur_bill_minrepay_std']+bill_select_std['cyclic_accr_std']\n",
    "\n",
    "bill_select['last_repay_amount_var - last_bill_amount_var']=bill_select_var['last_repay_amount_var']-bill_select_var['last_bill_amount_var']\n",
    "bill_select['credit_amount_var - cur_bill_bal_var']=bill_select_var['credit_amount_var']-bill_select_var['cur_bill_bal_var']\n",
    "bill_select['avail_bal_var - borrow_cash_var']=bill_select_var['avail_bal_var']-bill_select_var['borrow_cash_var']\n",
    "bill_select['cur_bill_minrepay_var + cyclic_accr_var']=bill_select_var['cur_bill_minrepay_var']+bill_select_var['cyclic_accr_var']\n",
    "\n",
    "bill_select.shape"
   ]
  },
  {
   "cell_type": "code",
   "execution_count": 14,
   "metadata": {
    "ExecuteTime": {
     "end_time": "2019-01-04T06:07:52.608674Z",
     "start_time": "2019-01-04T06:07:52.587759Z"
    }
   },
   "outputs": [
    {
     "data": {
      "text/html": [
       "<div>\n",
       "<style scoped>\n",
       "    .dataframe tbody tr th:only-of-type {\n",
       "        vertical-align: middle;\n",
       "    }\n",
       "\n",
       "    .dataframe tbody tr th {\n",
       "        vertical-align: top;\n",
       "    }\n",
       "\n",
       "    .dataframe thead th {\n",
       "        text-align: right;\n",
       "    }\n",
       "</style>\n",
       "<table border=\"1\" class=\"dataframe\">\n",
       "  <thead>\n",
       "    <tr style=\"text-align: right;\">\n",
       "      <th></th>\n",
       "      <th>user_id</th>\n",
       "      <th>last_bill_amount_sum</th>\n",
       "      <th>last_repay_amount_sum</th>\n",
       "      <th>credit_amount_sum</th>\n",
       "      <th>cur_bill_bal_sum</th>\n",
       "      <th>cur_bill_minrepay_sum</th>\n",
       "      <th>cons_num_sum</th>\n",
       "      <th>cur_bill_amount_sum</th>\n",
       "      <th>adjust_amount_sum</th>\n",
       "      <th>cyclic_accr_sum</th>\n",
       "      <th>...</th>\n",
       "      <th>avail_bal_median - borrow_cash_median</th>\n",
       "      <th>cur_bill_minrepay_median + cyclic_accr_median</th>\n",
       "      <th>last_repay_amount_std - last_bill_amount_std</th>\n",
       "      <th>credit_amount_std - cur_bill_bal_std</th>\n",
       "      <th>avail_bal_std - borrow_cash_std</th>\n",
       "      <th>cur_bill_minrepay_std + cyclic_accr_std</th>\n",
       "      <th>last_repay_amount_var - last_bill_amount_var</th>\n",
       "      <th>credit_amount_var - cur_bill_bal_var</th>\n",
       "      <th>avail_bal_var - borrow_cash_var</th>\n",
       "      <th>cur_bill_minrepay_var + cyclic_accr_var</th>\n",
       "    </tr>\n",
       "  </thead>\n",
       "  <tbody>\n",
       "    <tr>\n",
       "      <th>0</th>\n",
       "      <td>55597</td>\n",
       "      <td>1040.964295</td>\n",
       "      <td>849.318939</td>\n",
       "      <td>1109.390792</td>\n",
       "      <td>1827.865051</td>\n",
       "      <td>1667.506229</td>\n",
       "      <td>65</td>\n",
       "      <td>974.624595</td>\n",
       "      <td>0.0</td>\n",
       "      <td>32.176404</td>\n",
       "      <td>...</td>\n",
       "      <td>0.000000</td>\n",
       "      <td>18.153578</td>\n",
       "      <td>-0.554633</td>\n",
       "      <td>4.596645</td>\n",
       "      <td>-1.773502</td>\n",
       "      <td>7.169365</td>\n",
       "      <td>-10.628049</td>\n",
       "      <td>69.578198</td>\n",
       "      <td>-26.883094</td>\n",
       "      <td>29.069828</td>\n",
       "    </tr>\n",
       "    <tr>\n",
       "      <th>1</th>\n",
       "      <td>55598</td>\n",
       "      <td>1026.146745</td>\n",
       "      <td>1085.393735</td>\n",
       "      <td>1160.436328</td>\n",
       "      <td>1230.251143</td>\n",
       "      <td>1142.432029</td>\n",
       "      <td>20</td>\n",
       "      <td>1076.364351</td>\n",
       "      <td>0.0</td>\n",
       "      <td>84.287950</td>\n",
       "      <td>...</td>\n",
       "      <td>0.000000</td>\n",
       "      <td>17.757227</td>\n",
       "      <td>-0.990527</td>\n",
       "      <td>-0.532767</td>\n",
       "      <td>-9.851034</td>\n",
       "      <td>8.623266</td>\n",
       "      <td>-17.925773</td>\n",
       "      <td>-9.188706</td>\n",
       "      <td>-97.042863</td>\n",
       "      <td>37.388331</td>\n",
       "    </tr>\n",
       "    <tr>\n",
       "      <th>2</th>\n",
       "      <td>55599</td>\n",
       "      <td>150.329730</td>\n",
       "      <td>169.513056</td>\n",
       "      <td>220.772447</td>\n",
       "      <td>232.686519</td>\n",
       "      <td>210.922443</td>\n",
       "      <td>15</td>\n",
       "      <td>205.915028</td>\n",
       "      <td>0.0</td>\n",
       "      <td>0.000000</td>\n",
       "      <td>...</td>\n",
       "      <td>0.000000</td>\n",
       "      <td>19.099685</td>\n",
       "      <td>-5.788157</td>\n",
       "      <td>5.764323</td>\n",
       "      <td>-5.914023</td>\n",
       "      <td>0.682669</td>\n",
       "      <td>-131.851617</td>\n",
       "      <td>43.814154</td>\n",
       "      <td>-34.975671</td>\n",
       "      <td>0.466037</td>\n",
       "    </tr>\n",
       "    <tr>\n",
       "      <th>3</th>\n",
       "      <td>55600</td>\n",
       "      <td>151.853337</td>\n",
       "      <td>154.238780</td>\n",
       "      <td>179.741439</td>\n",
       "      <td>210.519668</td>\n",
       "      <td>195.046352</td>\n",
       "      <td>0</td>\n",
       "      <td>173.709292</td>\n",
       "      <td>0.0</td>\n",
       "      <td>0.000000</td>\n",
       "      <td>...</td>\n",
       "      <td>-19.278123</td>\n",
       "      <td>18.101623</td>\n",
       "      <td>0.143904</td>\n",
       "      <td>7.093911</td>\n",
       "      <td>-7.798385</td>\n",
       "      <td>0.868401</td>\n",
       "      <td>2.585524</td>\n",
       "      <td>64.296676</td>\n",
       "      <td>-60.814804</td>\n",
       "      <td>0.754121</td>\n",
       "    </tr>\n",
       "    <tr>\n",
       "      <th>4</th>\n",
       "      <td>55601</td>\n",
       "      <td>0.000000</td>\n",
       "      <td>0.000000</td>\n",
       "      <td>0.000000</td>\n",
       "      <td>56.473385</td>\n",
       "      <td>52.439858</td>\n",
       "      <td>0</td>\n",
       "      <td>0.000000</td>\n",
       "      <td>0.0</td>\n",
       "      <td>0.000000</td>\n",
       "      <td>...</td>\n",
       "      <td>0.000000</td>\n",
       "      <td>18.106295</td>\n",
       "      <td>0.000000</td>\n",
       "      <td>-0.893746</td>\n",
       "      <td>0.000000</td>\n",
       "      <td>1.121045</td>\n",
       "      <td>0.000000</td>\n",
       "      <td>-0.798782</td>\n",
       "      <td>0.000000</td>\n",
       "      <td>1.256742</td>\n",
       "    </tr>\n",
       "  </tbody>\n",
       "</table>\n",
       "<p>5 rows × 125 columns</p>\n",
       "</div>"
      ],
      "text/plain": [
       "   user_id  last_bill_amount_sum  last_repay_amount_sum  credit_amount_sum  \\\n",
       "0    55597           1040.964295             849.318939        1109.390792   \n",
       "1    55598           1026.146745            1085.393735        1160.436328   \n",
       "2    55599            150.329730             169.513056         220.772447   \n",
       "3    55600            151.853337             154.238780         179.741439   \n",
       "4    55601              0.000000               0.000000           0.000000   \n",
       "\n",
       "   cur_bill_bal_sum  cur_bill_minrepay_sum  cons_num_sum  cur_bill_amount_sum  \\\n",
       "0       1827.865051            1667.506229            65           974.624595   \n",
       "1       1230.251143            1142.432029            20          1076.364351   \n",
       "2        232.686519             210.922443            15           205.915028   \n",
       "3        210.519668             195.046352             0           173.709292   \n",
       "4         56.473385              52.439858             0             0.000000   \n",
       "\n",
       "   adjust_amount_sum  cyclic_accr_sum  \\\n",
       "0                0.0        32.176404   \n",
       "1                0.0        84.287950   \n",
       "2                0.0         0.000000   \n",
       "3                0.0         0.000000   \n",
       "4                0.0         0.000000   \n",
       "\n",
       "                    ...                     \\\n",
       "0                   ...                      \n",
       "1                   ...                      \n",
       "2                   ...                      \n",
       "3                   ...                      \n",
       "4                   ...                      \n",
       "\n",
       "   avail_bal_median - borrow_cash_median  \\\n",
       "0                               0.000000   \n",
       "1                               0.000000   \n",
       "2                               0.000000   \n",
       "3                             -19.278123   \n",
       "4                               0.000000   \n",
       "\n",
       "   cur_bill_minrepay_median + cyclic_accr_median  \\\n",
       "0                                      18.153578   \n",
       "1                                      17.757227   \n",
       "2                                      19.099685   \n",
       "3                                      18.101623   \n",
       "4                                      18.106295   \n",
       "\n",
       "   last_repay_amount_std - last_bill_amount_std  \\\n",
       "0                                     -0.554633   \n",
       "1                                     -0.990527   \n",
       "2                                     -5.788157   \n",
       "3                                      0.143904   \n",
       "4                                      0.000000   \n",
       "\n",
       "   credit_amount_std - cur_bill_bal_std  avail_bal_std - borrow_cash_std  \\\n",
       "0                              4.596645                        -1.773502   \n",
       "1                             -0.532767                        -9.851034   \n",
       "2                              5.764323                        -5.914023   \n",
       "3                              7.093911                        -7.798385   \n",
       "4                             -0.893746                         0.000000   \n",
       "\n",
       "   cur_bill_minrepay_std + cyclic_accr_std  \\\n",
       "0                                 7.169365   \n",
       "1                                 8.623266   \n",
       "2                                 0.682669   \n",
       "3                                 0.868401   \n",
       "4                                 1.121045   \n",
       "\n",
       "   last_repay_amount_var - last_bill_amount_var  \\\n",
       "0                                    -10.628049   \n",
       "1                                    -17.925773   \n",
       "2                                   -131.851617   \n",
       "3                                      2.585524   \n",
       "4                                      0.000000   \n",
       "\n",
       "   credit_amount_var - cur_bill_bal_var  avail_bal_var - borrow_cash_var  \\\n",
       "0                             69.578198                       -26.883094   \n",
       "1                             -9.188706                       -97.042863   \n",
       "2                             43.814154                       -34.975671   \n",
       "3                             64.296676                       -60.814804   \n",
       "4                             -0.798782                         0.000000   \n",
       "\n",
       "   cur_bill_minrepay_var + cyclic_accr_var  \n",
       "0                                29.069828  \n",
       "1                                37.388331  \n",
       "2                                 0.466037  \n",
       "3                                 0.754121  \n",
       "4                                 1.256742  \n",
       "\n",
       "[5 rows x 125 columns]"
      ]
     },
     "execution_count": 14,
     "metadata": {},
     "output_type": "execute_result"
    }
   ],
   "source": [
    "bill_select.head()"
   ]
  },
  {
   "cell_type": "code",
   "execution_count": 15,
   "metadata": {
    "ExecuteTime": {
     "end_time": "2019-01-04T06:07:52.651559Z",
     "start_time": "2019-01-04T06:07:52.611665Z"
    }
   },
   "outputs": [
    {
     "data": {
      "text/plain": [
       "user_id                                               0\n",
       "last_bill_amount_sum                                  0\n",
       "last_repay_amount_sum                                 0\n",
       "credit_amount_sum                                     0\n",
       "cur_bill_bal_sum                                      0\n",
       "cur_bill_minrepay_sum                                 0\n",
       "cons_num_sum                                          0\n",
       "cur_bill_amount_sum                                   0\n",
       "adjust_amount_sum                                     0\n",
       "cyclic_accr_sum                                       0\n",
       "avail_bal_sum                                         0\n",
       "borrow_cash_sum                                       0\n",
       "repay_status_sum                                      0\n",
       "last_bill_amount_count                                0\n",
       "last_repay_amount_count                               0\n",
       "credit_amount_count                                   0\n",
       "cur_bill_bal_count                                    0\n",
       "cur_bill_minrepay_count                               0\n",
       "cons_num_count                                        0\n",
       "cur_bill_amount_count                                 0\n",
       "adjust_amount_count                                   0\n",
       "cyclic_accr_count                                     0\n",
       "avail_bal_count                                       0\n",
       "borrow_cash_count                                     0\n",
       "repay_status_count                                    0\n",
       "last_bill_amount_max                                  0\n",
       "last_repay_amount_max                                 0\n",
       "credit_amount_max                                     0\n",
       "cur_bill_bal_max                                      0\n",
       "cur_bill_minrepay_max                                 0\n",
       "                                                     ..\n",
       "borrow_cash_var                                       0\n",
       "repay_status_var                                      0\n",
       "last_repay_amount_sum - last_bill_amount_sum          0\n",
       "credit_amount_sum - cur_bill_bal_sum                  0\n",
       "avail_bal_sum - borrow_cash_sum                       0\n",
       "cur_bill_minrepay_sum + cyclic_accr_sum               0\n",
       "last_repay_amount_max - last_bill_amount_max          0\n",
       "credit_amount_max - cur_bill_bal_max                  0\n",
       "avail_bal_max - borrow_cash_max                       0\n",
       "cur_bill_minrepay_max + cyclic_accr_max               0\n",
       "last_repay_amount_min - last_bill_amount_min          0\n",
       "credit_amount_min - cur_bill_bal_min                  0\n",
       "avail_bal_min - borrow_cash_min                       0\n",
       "cur_bill_minrepay_min + cyclic_accr_min               0\n",
       "last_repay_amount_mean - last_bill_amount_mean        0\n",
       "credit_amount_mean - cur_bill_bal_mean                0\n",
       "avail_bal_mean - borrow_cash_mean                     0\n",
       "cur_bill_minrepay_mean + cyclic_accr_mean             0\n",
       "last_repay_amount_median - last_bill_amount_median    0\n",
       "credit_amount_median - cur_bill_bal_median            0\n",
       "avail_bal_median - borrow_cash_median                 0\n",
       "cur_bill_minrepay_median + cyclic_accr_median         0\n",
       "last_repay_amount_std - last_bill_amount_std          0\n",
       "credit_amount_std - cur_bill_bal_std                  0\n",
       "avail_bal_std - borrow_cash_std                       0\n",
       "cur_bill_minrepay_std + cyclic_accr_std               0\n",
       "last_repay_amount_var - last_bill_amount_var          0\n",
       "credit_amount_var - cur_bill_bal_var                  0\n",
       "avail_bal_var - borrow_cash_var                       0\n",
       "cur_bill_minrepay_var + cyclic_accr_var               0\n",
       "Length: 125, dtype: int64"
      ]
     },
     "execution_count": 15,
     "metadata": {},
     "output_type": "execute_result"
    }
   ],
   "source": [
    "bill_select.isnull().sum()"
   ]
  },
  {
   "cell_type": "code",
   "execution_count": 16,
   "metadata": {
    "ExecuteTime": {
     "end_time": "2019-01-04T06:07:52.683490Z",
     "start_time": "2019-01-04T06:07:52.653557Z"
    }
   },
   "outputs": [
    {
     "data": {
      "text/html": [
       "<div>\n",
       "<style scoped>\n",
       "    .dataframe tbody tr th:only-of-type {\n",
       "        vertical-align: middle;\n",
       "    }\n",
       "\n",
       "    .dataframe tbody tr th {\n",
       "        vertical-align: top;\n",
       "    }\n",
       "\n",
       "    .dataframe thead th {\n",
       "        text-align: right;\n",
       "    }\n",
       "</style>\n",
       "<table border=\"1\" class=\"dataframe\">\n",
       "  <thead>\n",
       "    <tr style=\"text-align: right;\">\n",
       "      <th></th>\n",
       "      <th>user_id</th>\n",
       "      <th>last_bill_amount_sum</th>\n",
       "      <th>last_repay_amount_sum</th>\n",
       "      <th>credit_amount_sum</th>\n",
       "      <th>cur_bill_bal_sum</th>\n",
       "      <th>cur_bill_minrepay_sum</th>\n",
       "      <th>cons_num_sum</th>\n",
       "      <th>cur_bill_amount_sum</th>\n",
       "      <th>adjust_amount_sum</th>\n",
       "      <th>cyclic_accr_sum</th>\n",
       "      <th>...</th>\n",
       "      <th>avail_bal_median - borrow_cash_median</th>\n",
       "      <th>cur_bill_minrepay_median + cyclic_accr_median</th>\n",
       "      <th>last_repay_amount_std - last_bill_amount_std</th>\n",
       "      <th>credit_amount_std - cur_bill_bal_std</th>\n",
       "      <th>avail_bal_std - borrow_cash_std</th>\n",
       "      <th>cur_bill_minrepay_std + cyclic_accr_std</th>\n",
       "      <th>last_repay_amount_var - last_bill_amount_var</th>\n",
       "      <th>credit_amount_var - cur_bill_bal_var</th>\n",
       "      <th>avail_bal_var - borrow_cash_var</th>\n",
       "      <th>cur_bill_minrepay_var + cyclic_accr_var</th>\n",
       "    </tr>\n",
       "  </thead>\n",
       "  <tbody>\n",
       "    <tr>\n",
       "      <th>0</th>\n",
       "      <td>55597</td>\n",
       "      <td>1040.964295</td>\n",
       "      <td>849.318939</td>\n",
       "      <td>1109.390792</td>\n",
       "      <td>1827.865051</td>\n",
       "      <td>1667.506229</td>\n",
       "      <td>65</td>\n",
       "      <td>974.624595</td>\n",
       "      <td>0.0</td>\n",
       "      <td>32.176404</td>\n",
       "      <td>...</td>\n",
       "      <td>0.000000</td>\n",
       "      <td>18.153578</td>\n",
       "      <td>-0.554633</td>\n",
       "      <td>4.596645</td>\n",
       "      <td>-1.773502</td>\n",
       "      <td>7.169365</td>\n",
       "      <td>-10.628049</td>\n",
       "      <td>69.578198</td>\n",
       "      <td>-26.883094</td>\n",
       "      <td>29.069828</td>\n",
       "    </tr>\n",
       "    <tr>\n",
       "      <th>1</th>\n",
       "      <td>55598</td>\n",
       "      <td>1026.146745</td>\n",
       "      <td>1085.393735</td>\n",
       "      <td>1160.436328</td>\n",
       "      <td>1230.251143</td>\n",
       "      <td>1142.432029</td>\n",
       "      <td>20</td>\n",
       "      <td>1076.364351</td>\n",
       "      <td>0.0</td>\n",
       "      <td>84.287950</td>\n",
       "      <td>...</td>\n",
       "      <td>0.000000</td>\n",
       "      <td>17.757227</td>\n",
       "      <td>-0.990527</td>\n",
       "      <td>-0.532767</td>\n",
       "      <td>-9.851034</td>\n",
       "      <td>8.623266</td>\n",
       "      <td>-17.925773</td>\n",
       "      <td>-9.188706</td>\n",
       "      <td>-97.042863</td>\n",
       "      <td>37.388331</td>\n",
       "    </tr>\n",
       "    <tr>\n",
       "      <th>2</th>\n",
       "      <td>55599</td>\n",
       "      <td>150.329730</td>\n",
       "      <td>169.513056</td>\n",
       "      <td>220.772447</td>\n",
       "      <td>232.686519</td>\n",
       "      <td>210.922443</td>\n",
       "      <td>15</td>\n",
       "      <td>205.915028</td>\n",
       "      <td>0.0</td>\n",
       "      <td>0.000000</td>\n",
       "      <td>...</td>\n",
       "      <td>0.000000</td>\n",
       "      <td>19.099685</td>\n",
       "      <td>-5.788157</td>\n",
       "      <td>5.764323</td>\n",
       "      <td>-5.914023</td>\n",
       "      <td>0.682669</td>\n",
       "      <td>-131.851617</td>\n",
       "      <td>43.814154</td>\n",
       "      <td>-34.975671</td>\n",
       "      <td>0.466037</td>\n",
       "    </tr>\n",
       "    <tr>\n",
       "      <th>3</th>\n",
       "      <td>55600</td>\n",
       "      <td>151.853337</td>\n",
       "      <td>154.238780</td>\n",
       "      <td>179.741439</td>\n",
       "      <td>210.519668</td>\n",
       "      <td>195.046352</td>\n",
       "      <td>0</td>\n",
       "      <td>173.709292</td>\n",
       "      <td>0.0</td>\n",
       "      <td>0.000000</td>\n",
       "      <td>...</td>\n",
       "      <td>-19.278123</td>\n",
       "      <td>18.101623</td>\n",
       "      <td>0.143904</td>\n",
       "      <td>7.093911</td>\n",
       "      <td>-7.798385</td>\n",
       "      <td>0.868401</td>\n",
       "      <td>2.585524</td>\n",
       "      <td>64.296676</td>\n",
       "      <td>-60.814804</td>\n",
       "      <td>0.754121</td>\n",
       "    </tr>\n",
       "    <tr>\n",
       "      <th>4</th>\n",
       "      <td>55601</td>\n",
       "      <td>0.000000</td>\n",
       "      <td>0.000000</td>\n",
       "      <td>0.000000</td>\n",
       "      <td>56.473385</td>\n",
       "      <td>52.439858</td>\n",
       "      <td>0</td>\n",
       "      <td>0.000000</td>\n",
       "      <td>0.0</td>\n",
       "      <td>0.000000</td>\n",
       "      <td>...</td>\n",
       "      <td>0.000000</td>\n",
       "      <td>18.106295</td>\n",
       "      <td>0.000000</td>\n",
       "      <td>-0.893746</td>\n",
       "      <td>0.000000</td>\n",
       "      <td>1.121045</td>\n",
       "      <td>0.000000</td>\n",
       "      <td>-0.798782</td>\n",
       "      <td>0.000000</td>\n",
       "      <td>1.256742</td>\n",
       "    </tr>\n",
       "  </tbody>\n",
       "</table>\n",
       "<p>5 rows × 114 columns</p>\n",
       "</div>"
      ],
      "text/plain": [
       "   user_id  last_bill_amount_sum  last_repay_amount_sum  credit_amount_sum  \\\n",
       "0    55597           1040.964295             849.318939        1109.390792   \n",
       "1    55598           1026.146745            1085.393735        1160.436328   \n",
       "2    55599            150.329730             169.513056         220.772447   \n",
       "3    55600            151.853337             154.238780         179.741439   \n",
       "4    55601              0.000000               0.000000           0.000000   \n",
       "\n",
       "   cur_bill_bal_sum  cur_bill_minrepay_sum  cons_num_sum  cur_bill_amount_sum  \\\n",
       "0       1827.865051            1667.506229            65           974.624595   \n",
       "1       1230.251143            1142.432029            20          1076.364351   \n",
       "2        232.686519             210.922443            15           205.915028   \n",
       "3        210.519668             195.046352             0           173.709292   \n",
       "4         56.473385              52.439858             0             0.000000   \n",
       "\n",
       "   adjust_amount_sum  cyclic_accr_sum  \\\n",
       "0                0.0        32.176404   \n",
       "1                0.0        84.287950   \n",
       "2                0.0         0.000000   \n",
       "3                0.0         0.000000   \n",
       "4                0.0         0.000000   \n",
       "\n",
       "                    ...                     \\\n",
       "0                   ...                      \n",
       "1                   ...                      \n",
       "2                   ...                      \n",
       "3                   ...                      \n",
       "4                   ...                      \n",
       "\n",
       "   avail_bal_median - borrow_cash_median  \\\n",
       "0                               0.000000   \n",
       "1                               0.000000   \n",
       "2                               0.000000   \n",
       "3                             -19.278123   \n",
       "4                               0.000000   \n",
       "\n",
       "   cur_bill_minrepay_median + cyclic_accr_median  \\\n",
       "0                                      18.153578   \n",
       "1                                      17.757227   \n",
       "2                                      19.099685   \n",
       "3                                      18.101623   \n",
       "4                                      18.106295   \n",
       "\n",
       "   last_repay_amount_std - last_bill_amount_std  \\\n",
       "0                                     -0.554633   \n",
       "1                                     -0.990527   \n",
       "2                                     -5.788157   \n",
       "3                                      0.143904   \n",
       "4                                      0.000000   \n",
       "\n",
       "   credit_amount_std - cur_bill_bal_std  avail_bal_std - borrow_cash_std  \\\n",
       "0                              4.596645                        -1.773502   \n",
       "1                             -0.532767                        -9.851034   \n",
       "2                              5.764323                        -5.914023   \n",
       "3                              7.093911                        -7.798385   \n",
       "4                             -0.893746                         0.000000   \n",
       "\n",
       "   cur_bill_minrepay_std + cyclic_accr_std  \\\n",
       "0                                 7.169365   \n",
       "1                                 8.623266   \n",
       "2                                 0.682669   \n",
       "3                                 0.868401   \n",
       "4                                 1.121045   \n",
       "\n",
       "   last_repay_amount_var - last_bill_amount_var  \\\n",
       "0                                    -10.628049   \n",
       "1                                    -17.925773   \n",
       "2                                   -131.851617   \n",
       "3                                      2.585524   \n",
       "4                                      0.000000   \n",
       "\n",
       "   credit_amount_var - cur_bill_bal_var  avail_bal_var - borrow_cash_var  \\\n",
       "0                             69.578198                       -26.883094   \n",
       "1                             -9.188706                       -97.042863   \n",
       "2                             43.814154                       -34.975671   \n",
       "3                             64.296676                       -60.814804   \n",
       "4                             -0.798782                         0.000000   \n",
       "\n",
       "   cur_bill_minrepay_var + cyclic_accr_var  \n",
       "0                                29.069828  \n",
       "1                                37.388331  \n",
       "2                                 0.466037  \n",
       "3                                 0.754121  \n",
       "4                                 1.256742  \n",
       "\n",
       "[5 rows x 114 columns]"
      ]
     },
     "execution_count": 16,
     "metadata": {},
     "output_type": "execute_result"
    }
   ],
   "source": [
    "bill_select1 = bill_select\n",
    "bill_select1.drop(['last_bill_amount_count', 'last_repay_amount_count','credit_amount_count','cur_bill_bal_count',\n",
    "                             'cur_bill_minrepay_count','cons_num_count','cur_bill_amount_count','adjust_amount_count','cyclic_accr_count',\n",
    "                             'avail_bal_count','borrow_cash_count'], axis=1, inplace=True)\n",
    "bill_select1.head()"
   ]
  },
  {
   "cell_type": "code",
   "execution_count": 17,
   "metadata": {
    "ExecuteTime": {
     "end_time": "2019-01-04T06:22:50.320065Z",
     "start_time": "2019-01-04T06:22:50.304128Z"
    }
   },
   "outputs": [],
   "source": [
    "columns4 = ['user_id']\n",
    "df_usersID_test = pd.read_table(\n",
    "    'C:\\\\Users\\\\lkl\\\\Desktop\\\\Prediction of User Loan Risk\\\\test\\\\usersID_test.txt', names=columns4, sep=',')  # 用户ID表"
   ]
  },
  {
   "cell_type": "code",
   "execution_count": 18,
   "metadata": {
    "ExecuteTime": {
     "end_time": "2019-01-04T06:24:27.333295Z",
     "start_time": "2019-01-04T06:24:27.256215Z"
    }
   },
   "outputs": [],
   "source": [
    "bill_select_finall = pd.merge(left=df_usersID_test,right = bill_select1,how='left',on='user_id')"
   ]
  },
  {
   "cell_type": "code",
   "execution_count": 20,
   "metadata": {
    "ExecuteTime": {
     "end_time": "2019-01-04T06:29:38.481744Z",
     "start_time": "2019-01-04T06:29:38.431821Z"
    }
   },
   "outputs": [],
   "source": [
    "bill_select_finall=bill_select_finall.fillna(bill_select_finall.mean())"
   ]
  },
  {
   "cell_type": "code",
   "execution_count": 22,
   "metadata": {
    "ExecuteTime": {
     "end_time": "2019-01-04T06:33:43.944312Z",
     "start_time": "2019-01-04T06:33:42.361032Z"
    }
   },
   "outputs": [],
   "source": [
    "#bill_select_finall.to_csv('C:\\\\Users\\\\lkl\\\\Desktop\\\\competition\\\\forward\\\\bill_test_finall.csv')"
   ]
  }
 ],
 "metadata": {
  "hide_input": false,
  "kernelspec": {
   "display_name": "Python 3",
   "language": "python",
   "name": "python3"
  },
  "language_info": {
   "codemirror_mode": {
    "name": "ipython",
    "version": 3
   },
   "file_extension": ".py",
   "mimetype": "text/x-python",
   "name": "python",
   "nbconvert_exporter": "python",
   "pygments_lexer": "ipython3",
   "version": "3.6.5"
  },
  "toc": {
   "base_numbering": 1,
   "nav_menu": {},
   "number_sections": true,
   "sideBar": true,
   "skip_h1_title": false,
   "title_cell": "Table of Contents",
   "title_sidebar": "Contents",
   "toc_cell": false,
   "toc_position": {},
   "toc_section_display": true,
   "toc_window_display": false
  },
  "varInspector": {
   "cols": {
    "lenName": 16,
    "lenType": 16,
    "lenVar": 40
   },
   "kernels_config": {
    "python": {
     "delete_cmd_postfix": "",
     "delete_cmd_prefix": "del ",
     "library": "var_list.py",
     "varRefreshCmd": "print(var_dic_list())"
    },
    "r": {
     "delete_cmd_postfix": ") ",
     "delete_cmd_prefix": "rm(",
     "library": "var_list.r",
     "varRefreshCmd": "cat(var_dic_list()) "
    }
   },
   "types_to_exclude": [
    "module",
    "function",
    "builtin_function_or_method",
    "instance",
    "_Feature"
   ],
   "window_display": false
  }
 },
 "nbformat": 4,
 "nbformat_minor": 2
}
