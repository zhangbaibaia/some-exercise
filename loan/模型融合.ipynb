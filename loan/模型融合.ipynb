{
 "cells": [
  {
   "cell_type": "code",
   "execution_count": 26,
   "metadata": {},
   "outputs": [],
   "source": [
    "#模型融合\n",
    "from sklearn.base import BaseEstimator, ClassifierMixin, TransformerMixin, clone\n",
    "from sklearn.ensemble import RandomForestClassifier, ExtraTreesClassifier, GradientBoostingClassifier\n",
    "from sklearn.svm import SVC\n",
    "from sklearn.neighbors import KNeighborsClassifier\n",
    "from sklearn.model_selection import KFold\n",
    "from xgboost import XGBClassifier\n",
    "svr = SVC(C=10, kernel='rbf')\n",
    "xgb = XGBClassifier(learning_rate=0.1,\n",
    "                      n_estimators=470,           # 树的个数-10棵树建立xgboost\n",
    "                      max_depth=12,               # 树的深度\n",
    "                      min_child_weight = 1,      # 叶子节点最小权重\n",
    "                      gamma=0.3,                  # 惩罚项中叶子结点个数前的参数\n",
    "                      subsample=1,               # 所有样本建立决策树\n",
    "                      colsample_btree=1,         # 所有特征建立决策树\n",
    "                      random_state=27)\n",
    "knn = KNeighborsClassifier(n_neighbors=25)\n",
    "gb = GradientBoostingClassifier(learning_rate=0.1,n_estimators=200,min_samples_leaf=80,min_samples_split=80,\n",
    "                                  max_depth=8,max_features='sqrt',subsample=0.8,random_state=10)\n",
    "rf = RandomForestClassifier(n_estimators= 150, max_depth=7, min_samples_split=70,\n",
    "                                  min_samples_leaf=60,random_state=10)\n",
    "\n",
    "class StackingAveragedModels(BaseEstimator, ClassifierMixin, TransformerMixin):\n",
    "    def __init__(self, base_models, meta_model, n_folds=5):\n",
    "        self.base_models = base_models\n",
    "        self.meta_model = meta_model\n",
    "        self.n_folds = n_folds\n",
    "\n",
    "    def fit(self, x_train , y):\n",
    "        self.base_models_ = [list () for x in self.base_models]\n",
    "        self.meta_model_ = clone(self.meta_model)\n",
    "        kfold = KFold(n_splits=self.n_folds, shuffle=True, random_state=156)\n",
    "\n",
    "        # 使用K-fold的方法来进行交叉验证，将每次验证的结果作为新的特征来进行处理\n",
    "        out_of_fold_predictions = np.zeros((x_train.shape[0], len(self.base_models)))\n",
    "        for i, model in enumerate(self.base_models):\n",
    "            for train_index, holdout_index in kfold.split(x_train, y):\n",
    "                instance = clone(model)\n",
    "                self.base_models_[i].append(instance)\n",
    "                instance.fit(x_train[train_index],  y[train_index])\n",
    "                y_pred = instance.predict(x_train[holdout_index])\n",
    "                out_of_fold_predictions[holdout_index, i] = y_pred\n",
    "\n",
    "        # 将交叉验证预测出的结果 和 训练集中的标签值进行训练\n",
    "        self.meta_model_.fit(out_of_fold_predictions, y)\n",
    "        return self\n",
    "\n",
    "    # 从得到的新的特征  采用新的模型进行预测  并输出结果\n",
    "    def predict_proba(self, X):\n",
    "        meta_features = np.column_stack ([\n",
    "            np.column_stack([model.predict (X) for model in base_models]).mean (axis=1)\n",
    "            for base_models in self.base_models_])\n",
    "        return self.meta_model_.predict_proba(meta_features)\n",
    "\n",
    "stacked_averaged_models = StackingAveragedModels(base_models=(svr, gb, knn,rf,xgb), meta_model= xgb )"
   ]
  },
  {
   "cell_type": "code",
   "execution_count": 18,
   "metadata": {},
   "outputs": [],
   "source": [
    "import pandas as pd\n",
    "import numpy as np\n",
    "train=pd.read_csv('train_128.csv',index_col=0)\n",
    "test=pd.read_csv('test/test_128.csv',index_col=0)"
   ]
  },
  {
   "cell_type": "code",
   "execution_count": 19,
   "metadata": {},
   "outputs": [],
   "source": [
    "x=train.iloc[:,:-1]\n",
    "x=np.array(x)\n",
    "y=train.iloc[:,-1]\n",
    "y=np.array(y)"
   ]
  },
  {
   "cell_type": "code",
   "execution_count": 20,
   "metadata": {},
   "outputs": [
    {
     "name": "stdout",
     "output_type": "stream",
     "text": [
      "Counter({0: 4524, 1: 4524})\n",
      "6333\n",
      "2715\n"
     ]
    }
   ],
   "source": [
    "# 使用imlbearn库中上采样方法中的SMOTE接口\n",
    "from imblearn.over_sampling import SMOTE\n",
    "from sklearn.model_selection import train_test_split\n",
    "from sklearn.metrics import accuracy_score \n",
    "from collections import Counter\n",
    "# 定义SMOTE模型，random_state相当于随机数种子的作用\n",
    "smo = SMOTE(random_state=42)\n",
    "X,Y = smo.fit_sample(x, y)\n",
    "print(Counter(Y))\n",
    "x_train,x_test,y_train,y_test = train_test_split(X,Y,test_size=0.3,random_state=0)\n",
    "print(len(x_train))\n",
    "print(len(x_test))"
   ]
  },
  {
   "cell_type": "code",
   "execution_count": 27,
   "metadata": {},
   "outputs": [
    {
     "name": "stderr",
     "output_type": "stream",
     "text": [
      "d:\\python3.6\\lib\\site-packages\\sklearn\\svm\\base.py:196: FutureWarning: The default value of gamma will change from 'auto' to 'scale' in version 0.22 to account better for unscaled features. Set gamma explicitly to 'auto' or 'scale' to avoid this warning.\n",
      "  \"avoid this warning.\", FutureWarning)\n",
      "d:\\python3.6\\lib\\site-packages\\sklearn\\svm\\base.py:196: FutureWarning: The default value of gamma will change from 'auto' to 'scale' in version 0.22 to account better for unscaled features. Set gamma explicitly to 'auto' or 'scale' to avoid this warning.\n",
      "  \"avoid this warning.\", FutureWarning)\n",
      "d:\\python3.6\\lib\\site-packages\\sklearn\\svm\\base.py:196: FutureWarning: The default value of gamma will change from 'auto' to 'scale' in version 0.22 to account better for unscaled features. Set gamma explicitly to 'auto' or 'scale' to avoid this warning.\n",
      "  \"avoid this warning.\", FutureWarning)\n",
      "d:\\python3.6\\lib\\site-packages\\sklearn\\svm\\base.py:196: FutureWarning: The default value of gamma will change from 'auto' to 'scale' in version 0.22 to account better for unscaled features. Set gamma explicitly to 'auto' or 'scale' to avoid this warning.\n",
      "  \"avoid this warning.\", FutureWarning)\n",
      "d:\\python3.6\\lib\\site-packages\\sklearn\\svm\\base.py:196: FutureWarning: The default value of gamma will change from 'auto' to 'scale' in version 0.22 to account better for unscaled features. Set gamma explicitly to 'auto' or 'scale' to avoid this warning.\n",
      "  \"avoid this warning.\", FutureWarning)\n"
     ]
    }
   ],
   "source": [
    "test=np.array(test)\n",
    "ensemble = stacked_averaged_models.fit( x , y)\n",
    "#ensemble.score(x_train , y)\n",
    "#y_pred=ensemble.predict_proba(test)\n",
    "y_pred=stacked_averaged_models.predict_proba(test)"
   ]
  },
  {
   "cell_type": "code",
   "execution_count": 28,
   "metadata": {},
   "outputs": [
    {
     "data": {
      "text/plain": [
       "(13899, 2)"
      ]
     },
     "execution_count": 28,
     "metadata": {},
     "output_type": "execute_result"
    }
   ],
   "source": [
    "y_pred.shape"
   ]
  },
  {
   "cell_type": "code",
   "execution_count": 29,
   "metadata": {},
   "outputs": [],
   "source": [
    "label=pd.DataFrame(y_pred,columns=['probability0','probability'])"
   ]
  },
  {
   "cell_type": "code",
   "execution_count": 30,
   "metadata": {},
   "outputs": [],
   "source": [
    "label=label.drop(['probability0'],axis=1)"
   ]
  },
  {
   "cell_type": "code",
   "execution_count": 31,
   "metadata": {},
   "outputs": [],
   "source": [
    "label.to_csv('test/ronghe.csv')"
   ]
  },
  {
   "cell_type": "code",
   "execution_count": null,
   "metadata": {},
   "outputs": [],
   "source": []
  }
 ],
 "metadata": {
  "kernelspec": {
   "display_name": "Python 3",
   "language": "python",
   "name": "python3"
  },
  "language_info": {
   "codemirror_mode": {
    "name": "ipython",
    "version": 3
   },
   "file_extension": ".py",
   "mimetype": "text/x-python",
   "name": "python",
   "nbconvert_exporter": "python",
   "pygments_lexer": "ipython3",
   "version": "3.6.5"
  }
 },
 "nbformat": 4,
 "nbformat_minor": 2
}
