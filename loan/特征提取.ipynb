{
 "cells": [
  {
   "cell_type": "code",
   "execution_count": 1,
   "metadata": {},
   "outputs": [],
   "source": [
    "import numpy as np \n",
    "import pandas as pd \n",
    "import matplotlib.pyplot as plt"
   ]
  },
  {
   "cell_type": "markdown",
   "metadata": {},
   "source": [
    "# 无删除数据的merge"
   ]
  },
  {
   "cell_type": "code",
   "execution_count": 109,
   "metadata": {},
   "outputs": [],
   "source": [
    "bank_train = pd.read_csv('bank_train.csv',index_col=0)\n",
    "bill_train=pd.read_csv('bill_train.csv' ,index_col=0)   #账单记录表\n",
    "browse_train_onehot=pd.read_csv('browse_train_onehot.csv',index_col=0) #浏览信息表onehot\n",
    "browse_train=pd.read_csv('browse_train.csv',index_col=0) #浏览信息表\n",
    "loan_train=pd.read_csv('df_loan_train.csv',index_col=0) #放款时间表\n",
    "overdue_train=pd.read_csv('df_overdue_train.csv' ,index_col=0) #逾期记录表\n",
    "user_train=pd.read_csv('user_train.csv',index_col=0)  #用户信息表\n",
    "user_train_onehot=pd.read_csv('user_train_onehot.csv',index_col=0)  #用户信息表onehot"
   ]
  },
  {
   "cell_type": "code",
   "execution_count": 110,
   "metadata": {},
   "outputs": [],
   "source": [
    "train=pd.merge(user_train,bank_train,how='inner',on='user_id')"
   ]
  },
  {
   "cell_type": "code",
   "execution_count": 111,
   "metadata": {},
   "outputs": [],
   "source": [
    "train=pd.merge(train,bill_train,how='inner',on='user_id')"
   ]
  },
  {
   "cell_type": "code",
   "execution_count": 112,
   "metadata": {},
   "outputs": [],
   "source": [
    "train=pd.merge(train,browse_train,how='inner',on='user_id')\n",
    "train=pd.merge(train,loan_train,how='inner',on='user_id')\n",
    "train=pd.merge(train,overdue_train,how='inner',on='user_id')"
   ]
  },
  {
   "cell_type": "code",
   "execution_count": 113,
   "metadata": {},
   "outputs": [
    {
     "data": {
      "text/plain": [
       "(5298, 153)"
      ]
     },
     "execution_count": 113,
     "metadata": {},
     "output_type": "execute_result"
    }
   ],
   "source": [
    "train.shape"
   ]
  },
  {
   "cell_type": "code",
   "execution_count": 116,
   "metadata": {},
   "outputs": [
    {
     "data": {
      "text/html": [
       "<div>\n",
       "<style scoped>\n",
       "    .dataframe tbody tr th:only-of-type {\n",
       "        vertical-align: middle;\n",
       "    }\n",
       "\n",
       "    .dataframe tbody tr th {\n",
       "        vertical-align: top;\n",
       "    }\n",
       "\n",
       "    .dataframe thead th {\n",
       "        text-align: right;\n",
       "    }\n",
       "</style>\n",
       "<table border=\"1\" class=\"dataframe\">\n",
       "  <thead>\n",
       "    <tr style=\"text-align: right;\">\n",
       "      <th></th>\n",
       "      <th>user_id</th>\n",
       "      <th>sex</th>\n",
       "      <th>job</th>\n",
       "      <th>education</th>\n",
       "      <th>marriage</th>\n",
       "      <th>residence</th>\n",
       "      <th>earningnum</th>\n",
       "      <th>earningsum</th>\n",
       "      <th>expendnum</th>\n",
       "      <th>expendsum</th>\n",
       "      <th>...</th>\n",
       "      <th>brows_beh before lending_sum</th>\n",
       "      <th>brows_beh before lending_max</th>\n",
       "      <th>brows_beh before lending_mean</th>\n",
       "      <th>brows_beh before lending_min</th>\n",
       "      <th>brows_beh before lending_std</th>\n",
       "      <th>brows_beh before lending_var</th>\n",
       "      <th>brows_num before lending_count</th>\n",
       "      <th>brows_num before lending_count（unique）</th>\n",
       "      <th>time</th>\n",
       "      <th>overdue</th>\n",
       "    </tr>\n",
       "  </thead>\n",
       "  <tbody>\n",
       "    <tr>\n",
       "      <th>0</th>\n",
       "      <td>1265</td>\n",
       "      <td>1</td>\n",
       "      <td>3</td>\n",
       "      <td>4</td>\n",
       "      <td>3</td>\n",
       "      <td>1</td>\n",
       "      <td>124.0</td>\n",
       "      <td>1695.142678</td>\n",
       "      <td>290.0</td>\n",
       "      <td>3610.695042</td>\n",
       "      <td>...</td>\n",
       "      <td>42080.0</td>\n",
       "      <td>213.0</td>\n",
       "      <td>100.190476</td>\n",
       "      <td>23.0</td>\n",
       "      <td>57.814302</td>\n",
       "      <td>3342.493465</td>\n",
       "      <td>420.0</td>\n",
       "      <td>6.0</td>\n",
       "      <td>5915892687</td>\n",
       "      <td>0</td>\n",
       "    </tr>\n",
       "    <tr>\n",
       "      <th>1</th>\n",
       "      <td>2583</td>\n",
       "      <td>2</td>\n",
       "      <td>2</td>\n",
       "      <td>2</td>\n",
       "      <td>1</td>\n",
       "      <td>1</td>\n",
       "      <td>213.0</td>\n",
       "      <td>2736.475318</td>\n",
       "      <td>618.0</td>\n",
       "      <td>7064.310678</td>\n",
       "      <td>...</td>\n",
       "      <td>79749.0</td>\n",
       "      <td>213.0</td>\n",
       "      <td>113.602564</td>\n",
       "      <td>31.0</td>\n",
       "      <td>61.438952</td>\n",
       "      <td>3774.744815</td>\n",
       "      <td>702.0</td>\n",
       "      <td>7.0</td>\n",
       "      <td>5917275087</td>\n",
       "      <td>0</td>\n",
       "    </tr>\n",
       "    <tr>\n",
       "      <th>2</th>\n",
       "      <td>29165</td>\n",
       "      <td>1</td>\n",
       "      <td>2</td>\n",
       "      <td>4</td>\n",
       "      <td>1</td>\n",
       "      <td>4</td>\n",
       "      <td>189.0</td>\n",
       "      <td>2277.607807</td>\n",
       "      <td>473.0</td>\n",
       "      <td>5099.861165</td>\n",
       "      <td>...</td>\n",
       "      <td>44946.0</td>\n",
       "      <td>190.0</td>\n",
       "      <td>110.977778</td>\n",
       "      <td>38.0</td>\n",
       "      <td>50.094534</td>\n",
       "      <td>2509.462376</td>\n",
       "      <td>405.0</td>\n",
       "      <td>5.0</td>\n",
       "      <td>5928679887</td>\n",
       "      <td>0</td>\n",
       "    </tr>\n",
       "    <tr>\n",
       "      <th>3</th>\n",
       "      <td>2443</td>\n",
       "      <td>1</td>\n",
       "      <td>4</td>\n",
       "      <td>4</td>\n",
       "      <td>3</td>\n",
       "      <td>1</td>\n",
       "      <td>252.0</td>\n",
       "      <td>3020.288782</td>\n",
       "      <td>341.0</td>\n",
       "      <td>3762.790364</td>\n",
       "      <td>...</td>\n",
       "      <td>76571.0</td>\n",
       "      <td>214.0</td>\n",
       "      <td>114.114754</td>\n",
       "      <td>7.0</td>\n",
       "      <td>61.582007</td>\n",
       "      <td>3792.343528</td>\n",
       "      <td>671.0</td>\n",
       "      <td>8.0</td>\n",
       "      <td>5917015887</td>\n",
       "      <td>0</td>\n",
       "    </tr>\n",
       "    <tr>\n",
       "      <th>4</th>\n",
       "      <td>590</td>\n",
       "      <td>1</td>\n",
       "      <td>2</td>\n",
       "      <td>4</td>\n",
       "      <td>1</td>\n",
       "      <td>1</td>\n",
       "      <td>281.0</td>\n",
       "      <td>3684.672002</td>\n",
       "      <td>842.0</td>\n",
       "      <td>8621.443967</td>\n",
       "      <td>...</td>\n",
       "      <td>6714.0</td>\n",
       "      <td>190.0</td>\n",
       "      <td>111.900000</td>\n",
       "      <td>38.0</td>\n",
       "      <td>53.406246</td>\n",
       "      <td>2852.227119</td>\n",
       "      <td>60.0</td>\n",
       "      <td>5.0</td>\n",
       "      <td>5915374287</td>\n",
       "      <td>1</td>\n",
       "    </tr>\n",
       "  </tbody>\n",
       "</table>\n",
       "<p>5 rows × 153 columns</p>\n",
       "</div>"
      ],
      "text/plain": [
       "   user_id  sex  job  education  marriage  residence  earningnum   earningsum  \\\n",
       "0     1265    1    3          4         3          1       124.0  1695.142678   \n",
       "1     2583    2    2          2         1          1       213.0  2736.475318   \n",
       "2    29165    1    2          4         1          4       189.0  2277.607807   \n",
       "3     2443    1    4          4         3          1       252.0  3020.288782   \n",
       "4      590    1    2          4         1          1       281.0  3684.672002   \n",
       "\n",
       "   expendnum    expendsum   ...     brows_beh before lending_sum  \\\n",
       "0      290.0  3610.695042   ...                          42080.0   \n",
       "1      618.0  7064.310678   ...                          79749.0   \n",
       "2      473.0  5099.861165   ...                          44946.0   \n",
       "3      341.0  3762.790364   ...                          76571.0   \n",
       "4      842.0  8621.443967   ...                           6714.0   \n",
       "\n",
       "   brows_beh before lending_max  brows_beh before lending_mean  \\\n",
       "0                         213.0                     100.190476   \n",
       "1                         213.0                     113.602564   \n",
       "2                         190.0                     110.977778   \n",
       "3                         214.0                     114.114754   \n",
       "4                         190.0                     111.900000   \n",
       "\n",
       "   brows_beh before lending_min  brows_beh before lending_std  \\\n",
       "0                          23.0                     57.814302   \n",
       "1                          31.0                     61.438952   \n",
       "2                          38.0                     50.094534   \n",
       "3                           7.0                     61.582007   \n",
       "4                          38.0                     53.406246   \n",
       "\n",
       "   brows_beh before lending_var  brows_num before lending_count  \\\n",
       "0                   3342.493465                           420.0   \n",
       "1                   3774.744815                           702.0   \n",
       "2                   2509.462376                           405.0   \n",
       "3                   3792.343528                           671.0   \n",
       "4                   2852.227119                            60.0   \n",
       "\n",
       "   brows_num before lending_count（unique）        time  overdue  \n",
       "0                                     6.0  5915892687        0  \n",
       "1                                     7.0  5917275087        0  \n",
       "2                                     5.0  5928679887        0  \n",
       "3                                     8.0  5917015887        0  \n",
       "4                                     5.0  5915374287        1  \n",
       "\n",
       "[5 rows x 153 columns]"
      ]
     },
     "execution_count": 116,
     "metadata": {},
     "output_type": "execute_result"
    }
   ],
   "source": [
    "train.head()"
   ]
  },
  {
   "cell_type": "code",
   "execution_count": 117,
   "metadata": {},
   "outputs": [],
   "source": [
    "train=train.drop(['loantime'],axis=1)\n",
    "train_onehot=train_onehot.drop(['loantime'],axis=1)"
   ]
  },
  {
   "cell_type": "code",
   "execution_count": 118,
   "metadata": {},
   "outputs": [],
   "source": [
    "train=train.drop(['time'],axis=1)\n",
    "train_onehot=train_onehot.drop(['time'],axis=1)"
   ]
  },
  {
   "cell_type": "code",
   "execution_count": 119,
   "metadata": {},
   "outputs": [
    {
     "data": {
      "text/plain": [
       "(5298, 151)"
      ]
     },
     "execution_count": 119,
     "metadata": {},
     "output_type": "execute_result"
    }
   ],
   "source": [
    "train.shape"
   ]
  },
  {
   "cell_type": "code",
   "execution_count": 120,
   "metadata": {},
   "outputs": [],
   "source": [
    "train.to_csv('train.csv')\n",
    "train_onehot.to_csv('train_onehot.csv')"
   ]
  },
  {
   "cell_type": "markdown",
   "metadata": {},
   "source": [
    "# 特征提取"
   ]
  },
  {
   "cell_type": "code",
   "execution_count": 2,
   "metadata": {},
   "outputs": [],
   "source": [
    "train_scaled = pd.read_csv('train_scaled.csv',index_col=0)"
   ]
  },
  {
   "cell_type": "code",
   "execution_count": 3,
   "metadata": {},
   "outputs": [
    {
     "data": {
      "text/html": [
       "<div>\n",
       "<style scoped>\n",
       "    .dataframe tbody tr th:only-of-type {\n",
       "        vertical-align: middle;\n",
       "    }\n",
       "\n",
       "    .dataframe tbody tr th {\n",
       "        vertical-align: top;\n",
       "    }\n",
       "\n",
       "    .dataframe thead th {\n",
       "        text-align: right;\n",
       "    }\n",
       "</style>\n",
       "<table border=\"1\" class=\"dataframe\">\n",
       "  <thead>\n",
       "    <tr style=\"text-align: right;\">\n",
       "      <th></th>\n",
       "      <th>user_id</th>\n",
       "      <th>sex_0</th>\n",
       "      <th>sex_1</th>\n",
       "      <th>job_0</th>\n",
       "      <th>job_1</th>\n",
       "      <th>job_2</th>\n",
       "      <th>job_3</th>\n",
       "      <th>education_0</th>\n",
       "      <th>education_1</th>\n",
       "      <th>education_2</th>\n",
       "      <th>...</th>\n",
       "      <th>brows_num before lending_3</th>\n",
       "      <th>brows_num before lending_4</th>\n",
       "      <th>brows_num before lending_5</th>\n",
       "      <th>brows_num before lending_6</th>\n",
       "      <th>brows_num before lending_7</th>\n",
       "      <th>brows_num before lending_8</th>\n",
       "      <th>brows_num before lending_9</th>\n",
       "      <th>brows_num before lending_10</th>\n",
       "      <th>brows_num before lending_11</th>\n",
       "      <th>overdue</th>\n",
       "    </tr>\n",
       "  </thead>\n",
       "  <tbody>\n",
       "    <tr>\n",
       "      <th>0</th>\n",
       "      <td>1265</td>\n",
       "      <td>0</td>\n",
       "      <td>1</td>\n",
       "      <td>0</td>\n",
       "      <td>0</td>\n",
       "      <td>0</td>\n",
       "      <td>1</td>\n",
       "      <td>0</td>\n",
       "      <td>0</td>\n",
       "      <td>0</td>\n",
       "      <td>...</td>\n",
       "      <td>-0.256697</td>\n",
       "      <td>-0.245729</td>\n",
       "      <td>0.006296</td>\n",
       "      <td>-0.293652</td>\n",
       "      <td>-0.270100</td>\n",
       "      <td>-0.375523</td>\n",
       "      <td>-0.105924</td>\n",
       "      <td>0.207819</td>\n",
       "      <td>-0.040746</td>\n",
       "      <td>0</td>\n",
       "    </tr>\n",
       "    <tr>\n",
       "      <th>1</th>\n",
       "      <td>2583</td>\n",
       "      <td>0</td>\n",
       "      <td>0</td>\n",
       "      <td>0</td>\n",
       "      <td>0</td>\n",
       "      <td>1</td>\n",
       "      <td>0</td>\n",
       "      <td>0</td>\n",
       "      <td>0</td>\n",
       "      <td>1</td>\n",
       "      <td>...</td>\n",
       "      <td>-0.256697</td>\n",
       "      <td>0.107256</td>\n",
       "      <td>0.227392</td>\n",
       "      <td>-0.098178</td>\n",
       "      <td>-0.128606</td>\n",
       "      <td>0.049666</td>\n",
       "      <td>-0.105924</td>\n",
       "      <td>-0.000830</td>\n",
       "      <td>-0.040746</td>\n",
       "      <td>0</td>\n",
       "    </tr>\n",
       "    <tr>\n",
       "      <th>2</th>\n",
       "      <td>29165</td>\n",
       "      <td>0</td>\n",
       "      <td>1</td>\n",
       "      <td>0</td>\n",
       "      <td>0</td>\n",
       "      <td>1</td>\n",
       "      <td>0</td>\n",
       "      <td>0</td>\n",
       "      <td>0</td>\n",
       "      <td>0</td>\n",
       "      <td>...</td>\n",
       "      <td>-0.256697</td>\n",
       "      <td>-0.171416</td>\n",
       "      <td>-0.435897</td>\n",
       "      <td>-0.215463</td>\n",
       "      <td>-0.128606</td>\n",
       "      <td>-0.375523</td>\n",
       "      <td>-0.105924</td>\n",
       "      <td>-0.126019</td>\n",
       "      <td>-0.040746</td>\n",
       "      <td>0</td>\n",
       "    </tr>\n",
       "    <tr>\n",
       "      <th>3</th>\n",
       "      <td>2443</td>\n",
       "      <td>0</td>\n",
       "      <td>1</td>\n",
       "      <td>0</td>\n",
       "      <td>0</td>\n",
       "      <td>0</td>\n",
       "      <td>0</td>\n",
       "      <td>0</td>\n",
       "      <td>0</td>\n",
       "      <td>0</td>\n",
       "      <td>...</td>\n",
       "      <td>1.047291</td>\n",
       "      <td>-0.208573</td>\n",
       "      <td>0.374790</td>\n",
       "      <td>0.175487</td>\n",
       "      <td>-0.118499</td>\n",
       "      <td>-0.029073</td>\n",
       "      <td>-0.105924</td>\n",
       "      <td>-0.320757</td>\n",
       "      <td>-0.040746</td>\n",
       "      <td>0</td>\n",
       "    </tr>\n",
       "    <tr>\n",
       "      <th>4</th>\n",
       "      <td>590</td>\n",
       "      <td>0</td>\n",
       "      <td>1</td>\n",
       "      <td>0</td>\n",
       "      <td>0</td>\n",
       "      <td>1</td>\n",
       "      <td>0</td>\n",
       "      <td>0</td>\n",
       "      <td>0</td>\n",
       "      <td>0</td>\n",
       "      <td>...</td>\n",
       "      <td>-0.256697</td>\n",
       "      <td>-0.542980</td>\n",
       "      <td>-0.435897</td>\n",
       "      <td>-0.606412</td>\n",
       "      <td>-0.613727</td>\n",
       "      <td>-0.375523</td>\n",
       "      <td>-0.105924</td>\n",
       "      <td>-0.543315</td>\n",
       "      <td>-0.040746</td>\n",
       "      <td>1</td>\n",
       "    </tr>\n",
       "  </tbody>\n",
       "</table>\n",
       "<p>5 rows × 154 columns</p>\n",
       "</div>"
      ],
      "text/plain": [
       "   user_id  sex_0  sex_1  job_0  job_1  job_2  job_3  education_0  \\\n",
       "0     1265      0      1      0      0      0      1            0   \n",
       "1     2583      0      0      0      0      1      0            0   \n",
       "2    29165      0      1      0      0      1      0            0   \n",
       "3     2443      0      1      0      0      0      0            0   \n",
       "4      590      0      1      0      0      1      0            0   \n",
       "\n",
       "   education_1  education_2   ...     brows_num before lending_3  \\\n",
       "0            0            0   ...                      -0.256697   \n",
       "1            0            1   ...                      -0.256697   \n",
       "2            0            0   ...                      -0.256697   \n",
       "3            0            0   ...                       1.047291   \n",
       "4            0            0   ...                      -0.256697   \n",
       "\n",
       "   brows_num before lending_4  brows_num before lending_5  \\\n",
       "0                   -0.245729                    0.006296   \n",
       "1                    0.107256                    0.227392   \n",
       "2                   -0.171416                   -0.435897   \n",
       "3                   -0.208573                    0.374790   \n",
       "4                   -0.542980                   -0.435897   \n",
       "\n",
       "   brows_num before lending_6  brows_num before lending_7  \\\n",
       "0                   -0.293652                   -0.270100   \n",
       "1                   -0.098178                   -0.128606   \n",
       "2                   -0.215463                   -0.128606   \n",
       "3                    0.175487                   -0.118499   \n",
       "4                   -0.606412                   -0.613727   \n",
       "\n",
       "   brows_num before lending_8  brows_num before lending_9  \\\n",
       "0                   -0.375523                   -0.105924   \n",
       "1                    0.049666                   -0.105924   \n",
       "2                   -0.375523                   -0.105924   \n",
       "3                   -0.029073                   -0.105924   \n",
       "4                   -0.375523                   -0.105924   \n",
       "\n",
       "   brows_num before lending_10  brows_num before lending_11  overdue  \n",
       "0                     0.207819                    -0.040746        0  \n",
       "1                    -0.000830                    -0.040746        0  \n",
       "2                    -0.126019                    -0.040746        0  \n",
       "3                    -0.320757                    -0.040746        0  \n",
       "4                    -0.543315                    -0.040746        1  \n",
       "\n",
       "[5 rows x 154 columns]"
      ]
     },
     "execution_count": 3,
     "metadata": {},
     "output_type": "execute_result"
    }
   ],
   "source": [
    "train_scaled.head()"
   ]
  },
  {
   "cell_type": "code",
   "execution_count": 5,
   "metadata": {},
   "outputs": [
    {
     "name": "stderr",
     "output_type": "stream",
     "text": [
      "d:\\python3.6\\lib\\site-packages\\sklearn\\utils\\validation.py:761: DataConversionWarning: A column-vector y was passed when a 1d array was expected. Please change the shape of y to (n_samples, ), for example using ravel().\n",
      "  y = column_or_1d(y, warn=True)\n",
      "d:\\python3.6\\lib\\site-packages\\sklearn\\feature_selection\\univariate_selection.py:114: UserWarning: Features [58 82] are constant.\n",
      "  UserWarning)\n",
      "d:\\python3.6\\lib\\site-packages\\sklearn\\feature_selection\\univariate_selection.py:115: RuntimeWarning: invalid value encountered in true_divide\n",
      "  f = msb / msw\n"
     ]
    }
   ],
   "source": [
    "#先使用Filter法的方差分析筛选。\n",
    "x = train_scaled.drop(['user_id','overdue'],axis=1)\n",
    "x = np.array(x)\n",
    "y = train_scaled[['overdue']]\n",
    "y = np.array(y)\n",
    "\n",
    "from sklearn.feature_selection import SelectKBest, f_classif\n",
    "#f_classif（方差分析的F值）：评估特征的指标。一般的，f_regression用作回归; chi2卡方检验，f_classif等用作分类\n",
    "#k：选择的特征的个数\n",
    "selector = SelectKBest(f_classif, k=40)             #用f_classif方法，设定数目为40\n",
    "a=selector.fit(x,y)\n",
    "#print(a.scores_,'\\n',a.get_support())    #输出得分及选择的结果"
   ]
  },
  {
   "cell_type": "code",
   "execution_count": 7,
   "metadata": {},
   "outputs": [],
   "source": [
    "keys = list(train_scaled.iloc[:,1:-1])\n",
    "values = a.scores_\n",
    "scores = dict(zip(keys,values))\n",
    "del scores['repay_status_min']\n",
    "del scores['repay_status_median']"
   ]
  },
  {
   "cell_type": "code",
   "execution_count": 8,
   "metadata": {
    "scrolled": true
   },
   "outputs": [
    {
     "data": {
      "text/plain": [
       "[('repay_status_max', 0.026614729904219567),\n",
       " ('brows_num before lending_2', 0.04209232125105853),\n",
       " ('education_3', 0.07223196450313094),\n",
       " ('avail_bal_var', 0.10010156359936151),\n",
       " ('credit_amount_mean - cur_bill_bal_mean', 0.11437433783177314),\n",
       " ('brows_beh before lending_std', 0.1401559118270781),\n",
       " ('marriage_1', 0.2173957905997985),\n",
       " ('cur_bill_bal_var', 0.22971221336804315),\n",
       " ('avail_bal_mean', 0.23140555670291088),\n",
       " ('cyclic_accr_median', 0.24536752224009964),\n",
       " ('adjust_amount_median', 0.2596928608856597),\n",
       " ('repay_status_sum', 0.2681233009492672),\n",
       " ('brows_num before lending_3', 0.2844995703291182),\n",
       " ('credit_amount_median - cur_bill_bal_median', 0.3174096595506505),\n",
       " ('cur_bill_minrepay_var', 0.38820000548159633),\n",
       " ('job_3', 0.4418528077036814),\n",
       " ('avail_bal_min', 0.48471964105736143),\n",
       " ('cons_num_var', 0.4941527488485786),\n",
       " ('last_repay_amount_sum - last_bill_amount_sum', 0.533421093755196),\n",
       " ('brows_beh before lending_max', 0.5629523646835114),\n",
       " ('repay_status_std', 0.6640188963032393),\n",
       " ('last_repay_amount_var', 0.6790436478445869),\n",
       " ('adjust_amount_mean', 0.6940542613087466),\n",
       " ('avail_bal_std', 0.6946283364211465),\n",
       " ('education_1', 0.7605169385693442),\n",
       " ('avail_bal_min - borrow_cash_min', 0.8506699281606115),\n",
       " ('avail_bal_median', 0.854873552485261),\n",
       " ('repay_status_mean', 0.8896808373489692),\n",
       " ('repay_status_var', 0.9147597322636947),\n",
       " ('brows_num before lending_9', 0.9412683969914358),\n",
       " ('last_repay_amount_var - last_bill_amount_var', 0.9827896838901955),\n",
       " ('adjust_amount_sum', 0.9957479242429558),\n",
       " ('residence_2', 1.0210877131613576),\n",
       " ('job_1', 1.027500417356621),\n",
       " ('marriage_3', 1.1016612669272823),\n",
       " ('adjust_amount_var', 1.1074345116868891),\n",
       " ('marriage_2', 1.3318697368707029),\n",
       " ('residence_3', 1.3335089916396863),\n",
       " ('borrow_cash_min', 1.5142679478866825),\n",
       " ('cyclic_accr_min', 1.5327452705237647),\n",
       " ('brows_beh before lending_var', 1.5586673382860725),\n",
       " ('sex_1', 1.6376671316250901),\n",
       " ('credit_amount_min - cur_bill_bal_min', 1.7204638085202177),\n",
       " ('brows_beh before lending_mean', 1.8064186408951783),\n",
       " ('credit_amount_var - cur_bill_bal_var', 1.9769256823339656),\n",
       " ('cyclic_accr_mean', 2.050827943193915),\n",
       " ('last_bill_amount_var', 2.069969592704015),\n",
       " ('credit_amount_max - cur_bill_bal_max', 2.092823051132968),\n",
       " ('brows_num before lending_7', 2.116966812480585),\n",
       " ('cur_bill_minrepay_var + cyclic_accr_var', 2.1296357222316167),\n",
       " ('marriage_0', 2.193600344734187),\n",
       " ('brows_beh before lending_min', 2.284669455479748),\n",
       " ('last_repay_amount_mean - last_bill_amount_mean', 2.533570712642574),\n",
       " ('brows_num before lending_8', 2.6232347096533335),\n",
       " ('job_0', 2.7284128611670795),\n",
       " ('education_0', 2.7284128611670795),\n",
       " ('residence_0', 2.7284128611670795),\n",
       " ('avail_bal_max', 2.8004220250397207),\n",
       " ('cons_num_mean', 2.8860247186968264),\n",
       " ('credit_amount_std - cur_bill_bal_std', 2.8928982548939013),\n",
       " ('cyclic_accr_var', 2.941314156125631),\n",
       " ('avail_bal_sum', 3.9387646035911543),\n",
       " ('brows_num before lending_1', 4.330744340175612),\n",
       " ('brows_num before lending_4', 4.417676490313877),\n",
       " ('credit_amount_sum - cur_bill_bal_sum', 4.512438673516076),\n",
       " ('cons_num_std', 4.515452575848426),\n",
       " ('brows_beh before lending_sum', 4.778972079098311),\n",
       " ('adjust_amount_std', 4.881483292270564),\n",
       " ('last_repay_amount_std - last_bill_amount_std', 4.960670558948548),\n",
       " ('brows_num before lending_10', 4.994199082458552),\n",
       " ('cur_bill_amount_mean', 5.004391602262306),\n",
       " ('last_repay_amount_median - last_bill_amount_median', 5.076078804791526),\n",
       " ('brows_num before lending_5', 5.083634447513452),\n",
       " ('last_repay_amount_max - last_bill_amount_max', 5.5218494505946225),\n",
       " ('cur_bill_bal_std', 5.615611391470974),\n",
       " ('credit_amount_mean', 5.61622541512092),\n",
       " ('adjust_amount_max', 5.8606586906269404),\n",
       " ('residence_1', 5.88831997091974),\n",
       " ('brows_num before lending_6', 6.051579154757278),\n",
       " ('cur_bill_amount_median', 6.244299729823536),\n",
       " ('cyclic_accr_std', 6.991994983799146),\n",
       " ('brows_num before lending_11', 7.022833522578826),\n",
       " ('cur_bill_minrepay_std', 7.28758959002103),\n",
       " ('last_repay_amount_std', 7.658248619842695),\n",
       " ('borrow_cash_median', 7.70684972037567),\n",
       " ('last_repay_amount_min', 8.085561521781454),\n",
       " ('avail_bal_median - borrow_cash_median', 8.22050817443663),\n",
       " ('cur_bill_minrepay_mean + cyclic_accr_mean', 8.684334315280706),\n",
       " ('credit_amount_var', 8.830386306588954),\n",
       " ('adjust_amount_min', 9.044734171991896),\n",
       " ('cur_bill_minrepay_median + cyclic_accr_median', 9.093928578669006),\n",
       " ('cur_bill_minrepay_mean', 9.523193569019877),\n",
       " ('marriage_4', 10.311117572116556),\n",
       " ('cyclic_accr_sum', 11.21402052115861),\n",
       " ('credit_amount_median', 11.602105936490087),\n",
       " ('cons_num_sum', 11.662472386457846),\n",
       " ('job_2', 11.968390568966583),\n",
       " ('cons_num_median', 12.096935473173318),\n",
       " ('avail_bal_mean - borrow_cash_mean', 12.62420776303219),\n",
       " ('cons_num_max', 12.79690149480038),\n",
       " ('borrow_cash_mean', 13.078699018699812),\n",
       " ('education_2', 13.43898988473164),\n",
       " ('cyclic_accr_max', 13.766505729698498),\n",
       " ('cur_bill_bal_mean', 13.811218776694723),\n",
       " ('cur_bill_minrepay_std + cyclic_accr_std', 14.034995758146383),\n",
       " ('last_repay_amount_min - last_bill_amount_min', 14.280633144910423),\n",
       " ('avail_bal_max - borrow_cash_max', 14.57229573428122),\n",
       " ('cur_bill_bal_min', 15.357617755301169),\n",
       " ('cur_bill_amount_var', 16.148108682139608),\n",
       " ('last_bill_amount_std', 16.380171231087274),\n",
       " ('credit_amount_min', 16.767395963406035),\n",
       " ('cons_num_min', 17.091462132867488),\n",
       " ('avail_bal_var - borrow_cash_var', 18.103770668229078),\n",
       " ('cur_bill_minrepay_median', 18.542342614059407),\n",
       " ('last_bill_amount_median', 18.717054280552144),\n",
       " ('cur_bill_minrepay_min', 18.87417883885296),\n",
       " ('un_income_avg', 19.34897372534287),\n",
       " ('cur_bill_minrepay_min + cyclic_accr_min', 19.51175210585724),\n",
       " ('last_bill_amount_mean', 20.031381482316252),\n",
       " ('avail_bal_std - borrow_cash_std', 20.822311529431833),\n",
       " ('credit_amount_std', 20.929404664935106),\n",
       " ('income_avg', 21.4824318067489),\n",
       " ('borrow_cash_var', 22.056007356541148),\n",
       " ('cur_bill_amount_min', 22.352324969990697),\n",
       " ('cur_bill_bal_median', 23.53004360653735),\n",
       " ('cur_bill_minrepay_max + cyclic_accr_max', 25.047790184020325),\n",
       " ('last_bill_amount_min', 28.01572781833883),\n",
       " ('cur_bill_amount_std', 29.2649793304062),\n",
       " ('borrow_cash_std', 29.766498389391298),\n",
       " ('cur_bill_minrepay_sum + cyclic_accr_sum', 29.920573682714608),\n",
       " ('cur_bill_amount_sum', 30.464115423980754),\n",
       " ('avail_bal_sum - borrow_cash_sum', 30.58427858747381),\n",
       " ('borrow_cash_sum', 31.06532755304375),\n",
       " ('credit_amount_sum', 31.36410950259795),\n",
       " ('cur_bill_amount_max', 31.607913227997333),\n",
       " ('cur_bill_minrepay_sum', 31.922810455677116),\n",
       " ('cur_bill_bal_sum', 32.297884468486906),\n",
       " ('repay_status_count', 32.514492997527405),\n",
       " ('last_bill_amount_sum', 33.40473454599072),\n",
       " ('last_repay_amount_sum', 35.3357595880053),\n",
       " ('credit_amount_max', 36.74049925484656),\n",
       " ('last_repay_amount_mean', 39.047243557081785),\n",
       " ('last_repay_amount_median', 40.479656109927845),\n",
       " ('cur_bill_minrepay_max', 41.700077112580004),\n",
       " ('last_repay_amount_max', 44.123077740159054),\n",
       " ('borrow_cash_max', 48.126000534070194),\n",
       " ('last_bill_amount_max', 52.600717389323975),\n",
       " ('cur_bill_bal_max', 62.04280698588742),\n",
       " ('earning_avg', 80.30746054955974),\n",
       " ('sex_0', 116.65182046552034)]"
      ]
     },
     "execution_count": 8,
     "metadata": {},
     "output_type": "execute_result"
    }
   ],
   "source": [
    "sorted(scores.items(),key=lambda item:item[1])"
   ]
  },
  {
   "cell_type": "code",
   "execution_count": 9,
   "metadata": {},
   "outputs": [],
   "source": [
    "df_scores=pd.DataFrame(scores,index=[0])"
   ]
  },
  {
   "cell_type": "code",
   "execution_count": 10,
   "metadata": {},
   "outputs": [],
   "source": [
    "df_scores=pd.DataFrame.stack(df_scores, level=-1, dropna=True)"
   ]
  },
  {
   "cell_type": "code",
   "execution_count": 162,
   "metadata": {},
   "outputs": [],
   "source": [
    "df_scores.to_csv('filter_scores.csv')"
   ]
  },
  {
   "cell_type": "code",
   "execution_count": 11,
   "metadata": {},
   "outputs": [
    {
     "name": "stderr",
     "output_type": "stream",
     "text": [
      "d:\\python3.6\\lib\\site-packages\\sklearn\\utils\\validation.py:761: DataConversionWarning: A column-vector y was passed when a 1d array was expected. Please change the shape of y to (n_samples, ), for example using ravel().\n",
      "  y = column_or_1d(y, warn=True)\n"
     ]
    },
    {
     "name": "stdout",
     "output_type": "stream",
     "text": [
      "[False False False False False False False False False False False False\n",
      " False False False False False False False  True False False False  True\n",
      " False  True False False False False False False False False False False\n",
      " False False  True False False False False False False False False False\n",
      " False False False False False False False False False False False False\n",
      " False False False False False False False False False False False False\n",
      " False False False False False False False False False False False  True\n",
      " False False False False False False False False False False False False\n",
      " False False False False False False False False False False False False\n",
      " False False False  True  True False  True False False False False  True\n",
      " False False False  True False False False False  True False  True False\n",
      " False False False False False  True False  True False  True False False\n",
      " False False False False False False False False]\n",
      "[ 25 114 113 110  69 107  80 105 104  72 121 112 128 122  95 117  59  78\n",
      " 138   1  51  21 106   1   7   1  56  70  42 123  58  53   6 126  35  27\n",
      "   8  36   1  94  99  74 125 129 116  76 130  34  54 118  11  60  48  45\n",
      "  75 127  84  67 132   9  20  49  77  66  23  18  33  17  79  71  82  40\n",
      "  55  19  44  57  62  26 136 115 133  37 111   1  30 103  41  81  12 135\n",
      "  68  86 109 102 124  52  10  16  96  85  64   2 137  93 119  50 134  73\n",
      "  29  63  89   1   1   5   1  97  15 131  88   1  13 100  91   1  31 101\n",
      "  92   3   1  65   1  47  90  28  98  39  87   1  61   1  32   1 108  24\n",
      "  38  46   4  22  14 120  43  83]\n"
     ]
    }
   ],
   "source": [
    "# wrapper\n",
    "from sklearn.tree import DecisionTreeClassifier    #导入基模型\n",
    "from sklearn.feature_selection import RFE          #导入RFE模块\n",
    "model1 = DecisionTreeClassifier()                  #建立一个决策树分类模型\n",
    "rfe = RFE(model1,15)                                #进行多轮训练，设置筛选特征数目为15个\n",
    "rfe = rfe.fit(x,y)                                 #模型的拟合训练\n",
    "print(rfe.support_)                                #输出特征的选择结果\n",
    "print(rfe.ranking_)                                #特征的选择排名"
   ]
  },
  {
   "cell_type": "code",
   "execution_count": 164,
   "metadata": {},
   "outputs": [],
   "source": [
    "keys2 = list(train_scaled.iloc[:,1:-1])\n",
    "values2 = rfe.ranking_\n",
    "scores2 = dict(zip(keys2,values2))\n",
    "#del scores['repay_status_min']\n",
    "#del scores['repay_status_median']"
   ]
  },
  {
   "cell_type": "code",
   "execution_count": 165,
   "metadata": {},
   "outputs": [
    {
     "data": {
      "text/plain": [
       "[('earning_avg', 1),\n",
       " ('last_repay_amount_sum', 1),\n",
       " ('cur_bill_bal_sum', 1),\n",
       " ('cur_bill_bal_median', 1),\n",
       " ('last_repay_amount_std', 1),\n",
       " ('last_bill_amount_var', 1),\n",
       " ('last_repay_amount_sum - last_bill_amount_sum', 1),\n",
       " ('last_repay_amount_max - last_bill_amount_max', 1),\n",
       " ('credit_amount_max - cur_bill_bal_max', 1),\n",
       " ('cur_bill_minrepay_max + cyclic_accr_max', 1),\n",
       " ('last_repay_amount_median - last_bill_amount_median', 1),\n",
       " ('cur_bill_minrepay_std + cyclic_accr_std', 1),\n",
       " ('brows_beh before lending_mean', 1),\n",
       " ('brows_beh before lending_std', 1),\n",
       " ('brows_num before lending_1', 1),\n",
       " ('last_bill_amount_mean', 2),\n",
       " ('credit_amount_median - cur_bill_bal_median', 3),\n",
       " ('brows_num before lending_6', 4),\n",
       " ('credit_amount_sum - cur_bill_bal_sum', 5),\n",
       " ('cur_bill_bal_max', 6),\n",
       " ('credit_amount_min - cur_bill_bal_min', 7),\n",
       " ('cur_bill_amount_mean', 8),\n",
       " ('credit_amount_std', 9),\n",
       " ('cons_num_max', 10),\n",
       " ('brows_num before lending_7', 11),\n",
       " ('last_repay_amount_var - last_bill_amount_var', 12),\n",
       " ('borrow_cash_sum', 13),\n",
       " ('cons_num_mean', 14),\n",
       " ('avail_bal_max - borrow_cash_max', 15),\n",
       " ('brows_num before lending_8', 16),\n",
       " ('cur_bill_bal_min', 17),\n",
       " ('cur_bill_amount_std', 18),\n",
       " ('un_income_avg', 19),\n",
       " ('brows_num before lending_3', 20),\n",
       " ('credit_amount_median', 21),\n",
       " ('sex_0', 22),\n",
       " ('credit_amount_var - cur_bill_bal_var', 23),\n",
       " ('brows_num before lending_4', 24),\n",
       " ('borrow_cash_std', 25),\n",
       " ('cur_bill_bal_std', 26),\n",
       " ('credit_amount_max', 27),\n",
       " ('cyclic_accr_mean', 28),\n",
       " ('cur_bill_amount_max', 29),\n",
       " ('last_repay_amount_std - last_bill_amount_std', 30),\n",
       " ('cur_bill_amount_median', 31),\n",
       " ('last_repay_amount_mean', 32),\n",
       " ('last_repay_amount_var', 33),\n",
       " ('avail_bal_var - borrow_cash_var', 34),\n",
       " ('last_bill_amount_min', 35),\n",
       " ('cur_bill_minrepay_max', 36),\n",
       " ('avail_bal_sum - borrow_cash_sum', 37),\n",
       " ('adjust_amount_mean', 38),\n",
       " ('last_repay_amount_max', 39),\n",
       " ('borrow_cash_median', 40),\n",
       " ('credit_amount_mean - cur_bill_bal_mean', 41),\n",
       " ('brows_beh before lending_sum', 42),\n",
       " ('last_bill_amount_max', 43),\n",
       " ('cons_num_min', 44),\n",
       " ('cur_bill_amount_sum', 45),\n",
       " ('job_2', 46),\n",
       " ('cur_bill_amount_min', 47),\n",
       " ('brows_num before lending_10', 48),\n",
       " ('last_repay_amount_median', 49),\n",
       " ('credit_amount_mean', 50),\n",
       " ('repay_status_count', 51),\n",
       " ('cur_bill_minrepay_sum', 52),\n",
       " ('credit_amount_std - cur_bill_bal_std', 53),\n",
       " ('cur_bill_minrepay_median', 54),\n",
       " ('credit_amount_sum', 55),\n",
       " ('last_repay_amount_min', 56),\n",
       " ('last_bill_amount_median', 57),\n",
       " ('income_avg', 58),\n",
       " ('avail_bal_max', 59),\n",
       " ('brows_beh before lending_min', 60),\n",
       " ('cur_bill_minrepay_min', 61),\n",
       " ('cur_bill_bal_mean', 62),\n",
       " ('brows_beh before lending_var', 63),\n",
       " ('brows_num before lending_5', 64),\n",
       " ('cyclic_accr_sum', 65),\n",
       " ('last_repay_amount_mean - last_bill_amount_mean', 66),\n",
       " ('residence_1', 67),\n",
       " ('cons_num_median', 68),\n",
       " ('avail_bal_std - borrow_cash_std', 69),\n",
       " ('credit_amount_min', 70),\n",
       " ('cur_bill_minrepay_median + cyclic_accr_median', 71),\n",
       " ('education_3', 72),\n",
       " ('marriage_4', 73),\n",
       " ('cons_num_sum', 74),\n",
       " ('cur_bill_minrepay_std', 75),\n",
       " ('cons_num_var', 76),\n",
       " ('adjust_amount_std', 77),\n",
       " ('avail_bal_sum', 78),\n",
       " ('cyclic_accr_var', 79),\n",
       " ('adjust_amount_min', 80),\n",
       " ('last_bill_amount_sum', 81),\n",
       " ('residence_2', 82),\n",
       " ('cur_bill_minrepay_mean + cyclic_accr_mean', 83),\n",
       " ('education_0', 84),\n",
       " ('last_bill_amount_std', 85),\n",
       " ('avail_bal_mean - borrow_cash_mean', 86),\n",
       " ('credit_amount_var', 87),\n",
       " ('cur_bill_minrepay_sum + cyclic_accr_sum', 88),\n",
       " ('repay_status_mean', 89),\n",
       " ('brows_num before lending_11', 90),\n",
       " ('cur_bill_amount_var', 91),\n",
       " ('cur_bill_minrepay_var + cyclic_accr_var', 92),\n",
       " ('cons_num_std', 93),\n",
       " ('cur_bill_bal_var', 94),\n",
       " ('cur_bill_minrepay_min + cyclic_accr_min', 95),\n",
       " ('marriage_3', 96),\n",
       " ('borrow_cash_var', 97),\n",
       " ('cyclic_accr_max', 98),\n",
       " ('residence_3', 99),\n",
       " ('avail_bal_min', 100),\n",
       " ('avail_bal_median', 101),\n",
       " ('job_3', 102),\n",
       " ('education_1', 103),\n",
       " ('cur_bill_minrepay_mean', 104),\n",
       " ('borrow_cash_min', 105),\n",
       " ('brows_beh before lending_max', 106),\n",
       " ('job_0', 107),\n",
       " ('avail_bal_std', 108),\n",
       " ('job_1', 109),\n",
       " ('borrow_cash_mean', 110),\n",
       " ('adjust_amount_var', 111),\n",
       " ('avail_bal_mean', 112),\n",
       " ('sex_1', 113),\n",
       " ('education_2', 114),\n",
       " ('brows_num before lending_2', 115),\n",
       " ('marriage_1', 116),\n",
       " ('avail_bal_median - borrow_cash_median', 117),\n",
       " ('repay_status_max', 118),\n",
       " ('cyclic_accr_std', 119),\n",
       " ('residence_0', 120),\n",
       " ('cyclic_accr_median', 121),\n",
       " ('last_repay_amount_min - last_bill_amount_min', 122),\n",
       " ('repay_status_sum', 123),\n",
       " ('marriage_0', 124),\n",
       " ('cur_bill_minrepay_var', 125),\n",
       " ('cyclic_accr_min', 126),\n",
       " ('avail_bal_var', 127),\n",
       " ('marriage_2', 128),\n",
       " ('avail_bal_min - borrow_cash_min', 129),\n",
       " ('repay_status_std', 130),\n",
       " ('adjust_amount_sum', 131),\n",
       " ('borrow_cash_max', 132),\n",
       " ('brows_num before lending_9', 133),\n",
       " ('repay_status_median', 134),\n",
       " ('repay_status_var', 135),\n",
       " ('adjust_amount_median', 136),\n",
       " ('repay_status_min', 137),\n",
       " ('adjust_amount_max', 138)]"
      ]
     },
     "execution_count": 165,
     "metadata": {},
     "output_type": "execute_result"
    }
   ],
   "source": [
    "sorted(scores2.items(),key=lambda item:item[1])"
   ]
  },
  {
   "cell_type": "code",
   "execution_count": 166,
   "metadata": {},
   "outputs": [],
   "source": [
    "df_scores2=pd.DataFrame(scores2,index=[0])"
   ]
  },
  {
   "cell_type": "code",
   "execution_count": 167,
   "metadata": {},
   "outputs": [],
   "source": [
    "df_scores2=pd.DataFrame.stack(df_scores2, level=-1, dropna=True)"
   ]
  },
  {
   "cell_type": "code",
   "execution_count": 169,
   "metadata": {},
   "outputs": [],
   "source": [
    "df_scores2.to_csv('df_scores2.csv')"
   ]
  },
  {
   "cell_type": "markdown",
   "metadata": {},
   "source": [
    "# xgboost"
   ]
  },
  {
   "cell_type": "code",
   "execution_count": 5,
   "metadata": {},
   "outputs": [
    {
     "data": {
      "image/png": "[encoded data removed]",
      "text/plain": [
       "<Figure size 432x288 with 1 Axes>"
      ]
     },
     "metadata": {
      "needs_background": "light"
     },
     "output_type": "display_data"
    },
    {
     "data": {
      "image/png": "[encoded data removed]",
      "text/plain": [
       "<Figure size 432x288 with 1 Axes>"
      ]
     },
     "metadata": {
      "needs_background": "light"
     },
     "output_type": "display_data"
    }
   ],
   "source": [
    "#coding=utf-8\n",
    "# plot feature importance manually\n",
    "#XGBOOST\n",
    "import pandas as pd\n",
    "from matplotlib import pyplot\n",
    "from xgboost import plot_importance\n",
    "from numpy import sort\n",
    "from xgboost import XGBClassifier\n",
    "from sklearn.model_selection import train_test_split\n",
    "from sklearn.feature_selection import SelectFromModel\n",
    "import numpy as np\n",
    "from sklearn.tree import DecisionTreeClassifier    #导入基模型\n",
    "\n",
    "#load data\n",
    "tr_x = pd.read_csv(\"train_scaled.csv\",index_col=0)\n",
    "tr_y = pd.read_csv(\"train_scaled.csv\",index_col=0)\n",
    "#tr_xy=pd.merge(tr_x,tr_y)\n",
    "x=tr_x.drop(['user_id','overdue'],axis=1)#axis=1删除列。\n",
    "y=tr_y.overdue\n",
    "X_train, X_test, y_train, y_test = train_test_split(x, y, test_size=0.2,random_state=8)\n",
    "#（1）固定随机种子（random_state），可以让每次划分训练集和验证集的时候都是完全一样的。\n",
    "#切分数据，固定随机种子（random_state）时，同样的代码，得到的训练集数据相同。\n",
    "model=XGBClassifier()\n",
    "model.fit(X_train,y_train)\n",
    "#模型训练\n",
    "\n",
    "pyplot.bar(range(len(model.feature_importances_)), model.feature_importances_)\n",
    "pyplot.show()\n",
    "\n",
    "plot_importance(model)\n",
    "pyplot.show()\n",
    "feature_imp = pd.DataFrame(model.feature_importances_, index=X_test.columns, columns=[\"importance\"])\n",
    "feat_imp_200 = feature_imp.sort_values(\"importance\", ascending=False).index\n",
    "#data = tr_x.ix[:, feat_imp_200]\n",
    "#data.to_csv(\"tr_xy_gp.csv\",index=True)\n",
    "#feature_imp.to_csv(\"XGBOOST_imp.csv\",index=True)"
   ]
  },
  {
   "cell_type": "code",
   "execution_count": 2,
   "metadata": {},
   "outputs": [
    {
     "name": "stdout",
     "output_type": "stream",
     "text": [
      "Accuracy : 0.8805\n",
      "AUC Score (Train): 0.883277\n",
      "(152,)\n"
     ]
    }
   ],
   "source": [
    "#GBDT\n",
    "import numpy as np\n",
    "from sklearn.ensemble import GradientBoostingClassifier\n",
    "from sklearn.model_selection import cross_val_score\n",
    "from sklearn import metrics\n",
    "from sklearn.model_selection import GridSearchCV\n",
    "\n",
    "\n",
    "#load data\n",
    "tr_x = pd.read_csv(\"train_scaled.csv\",index_col=0)\n",
    "tr_y = pd.read_csv(\"train_scaled.csv\",index_col=0)\n",
    "#tr_xy=pd.merge(tr_x,tr_y)\n",
    "X=tr_x.drop(['user_id','overdue'],axis=1)#axis=1删除列。\n",
    "Y=tr_y.overdue\n",
    "gbm0 = GradientBoostingClassifier(random_state=10)\n",
    "gbm0.fit(X,Y)\n",
    "y_pred = gbm0.predict(X)\n",
    "y_predprob = gbm0.predict_proba(X)[:,1]\n",
    "print (\"Accuracy : %.4g\" % metrics.accuracy_score(Y.values, y_pred))\n",
    "print (\"AUC Score (Train): %f\" % metrics.roc_auc_score(Y, y_predprob))\n",
    "score = gbm0.feature_importances_\n",
    "print(gbm0.feature_importances_.shape)\n",
    "feature_imp1 = pd.DataFrame(gbm0.feature_importances_, index=X.columns, columns=[\"importance\"])"
   ]
  },
  {
   "cell_type": "code",
   "execution_count": 176,
   "metadata": {
    "scrolled": false
   },
   "outputs": [
    {
     "name": "stderr",
     "output_type": "stream",
     "text": [
      "d:\\python3.6\\lib\\site-packages\\ipykernel_launcher.py:7: DeprecationWarning: \n",
      ".ix is deprecated. Please use\n",
      ".loc for label based indexing or\n",
      ".iloc for positional indexing\n",
      "\n",
      "See the documentation here:\n",
      "http://pandas.pydata.org/pandas-docs/stable/indexing.html#ix-indexer-is-deprecated\n",
      "  import sys\n"
     ]
    }
   ],
   "source": [
    "T_imp=model.feature_importances_+gbm0.feature_importances_#重要性求和\n",
    "featureimp=pd.DataFrame(T_imp,index=X.columns,columns=[\"importance\"])\n",
    "featureimp= featureimp.sort_values(\"importance\", ascending=False)\n",
    "featureimp.to_csv(\"T_imp.csv\",index=True)#生成特征重要性表\n",
    "featureimp_152= featureimp.sort_values(\"importance\", ascending=False).head(152).index\n",
    "\n",
    "data = tr_x.ix[:, featureimp_152]\n",
    "data.to_csv(\"F_train.csv\",index=True)#生成提取特征后的训练数据"
   ]
  },
  {
   "cell_type": "code",
   "execution_count": 12,
   "metadata": {},
   "outputs": [],
   "source": [
    "#导入三种排序过的分数表\n",
    "filter_scores= pd.read_csv(\"filter_scores.csv\")\n",
    "T_imp = pd.read_csv(\"T_imp.csv\")\n",
    "wrapper_scores= pd.read_csv(\"df_scores2.csv\")"
   ]
  },
  {
   "cell_type": "code",
   "execution_count": 6,
   "metadata": {},
   "outputs": [
    {
     "name": "stderr",
     "output_type": "stream",
     "text": [
      "d:\\python3.6\\lib\\site-packages\\sklearn\\metrics\\classification.py:1143: UndefinedMetricWarning: F-score is ill-defined and being set to 0.0 due to no predicted samples.\n",
      "  'precision', 'predicted', average, warn_for)\n"
     ]
    }
   ],
   "source": [
    "# filter_select \n",
    "list=[]\n",
    "train_select=pd.read_csv(\"train_scaled.csv\",index_col=0)\n",
    "for n in range(len(filter_scores)):\n",
    "    filter_select=filter_scores.iloc[:n+1,0]\n",
    "    dataSet1=np.array(filter_select)#datafram转numpy.array\n",
    "    filter_select=dataSet1.tolist()#numpy.array转list\n",
    "\n",
    "    x_test=train_select[filter_select]\n",
    "    # filter\n",
    "    x_test1 = np.array(x_test)                             #建立自变量的二维数组\n",
    "    y_test1 = train_select[['overdue']]\n",
    "    y_test1 = np.array(y_test1)                             #建立因变量的二维数组\n",
    "    m1 = DecisionTreeClassifier()                           #建立决策树分类模型\n",
    "    m1.fit(x_test1,y_test1)                                 #模型的拟合训练\n",
    "    scores = cross_val_score(m1, x_test1, y_test1, cv=5, scoring= 'f1')       #将数据集分为5份，分别进行5次回归，返回得分\n",
    "    list.append(np.mean(scores))\n",
    "    "
   ]
  },
  {
   "cell_type": "code",
   "execution_count": 13,
   "metadata": {},
   "outputs": [
    {
     "data": {
      "text/plain": [
       "128"
      ]
     },
     "execution_count": 13,
     "metadata": {},
     "output_type": "execute_result"
    }
   ],
   "source": [
    "# wrapper_select   \n",
    "list_wrapper=[]\n",
    "for n in range(len(wrapper_scores)):\n",
    "    wrapper_select=filter_scores.iloc[:n,0]\n",
    "    dataSet2=np.array(wrapper_select)#datafram转numpy.array\n",
    "    wrapper_select=dataSet2.tolist()#numpy.array转list\n",
    "len(wrapper_select)"
   ]
  },
  {
   "cell_type": "code",
   "execution_count": 14,
   "metadata": {},
   "outputs": [
    {
     "data": {
      "text/plain": [
       "['sex_0',\n",
       " 'earning_avg',\n",
       " 'cur_bill_bal_max',\n",
       " 'last_bill_amount_max',\n",
       " 'borrow_cash_max',\n",
       " 'last_repay_amount_max',\n",
       " 'cur_bill_minrepay_max',\n",
       " 'last_repay_amount_median',\n",
       " 'last_repay_amount_mean',\n",
       " 'credit_amount_max',\n",
       " 'last_repay_amount_sum',\n",
       " 'last_bill_amount_sum',\n",
       " 'repay_status_count',\n",
       " 'cur_bill_bal_sum',\n",
       " 'cur_bill_minrepay_sum',\n",
       " 'cur_bill_amount_max',\n",
       " 'credit_amount_sum',\n",
       " 'borrow_cash_sum',\n",
       " 'avail_bal_sum - borrow_cash_sum',\n",
       " 'cur_bill_amount_sum',\n",
       " 'cur_bill_minrepay_sum + cyclic_accr_sum',\n",
       " 'borrow_cash_std',\n",
       " 'cur_bill_amount_std',\n",
       " 'last_bill_amount_min',\n",
       " 'cur_bill_minrepay_max + cyclic_accr_max',\n",
       " 'cur_bill_bal_median',\n",
       " 'cur_bill_amount_min',\n",
       " 'borrow_cash_var',\n",
       " 'income_avg',\n",
       " 'credit_amount_std',\n",
       " 'avail_bal_std - borrow_cash_std',\n",
       " 'last_bill_amount_mean',\n",
       " 'cur_bill_minrepay_min + cyclic_accr_min',\n",
       " 'un_income_avg',\n",
       " 'cur_bill_minrepay_min',\n",
       " 'last_bill_amount_median',\n",
       " 'cur_bill_minrepay_median',\n",
       " 'avail_bal_var - borrow_cash_var',\n",
       " 'cons_num_min',\n",
       " 'credit_amount_min',\n",
       " 'last_bill_amount_std',\n",
       " 'cur_bill_amount_var',\n",
       " 'cur_bill_bal_min',\n",
       " 'avail_bal_max - borrow_cash_max',\n",
       " 'last_repay_amount_min - last_bill_amount_min',\n",
       " 'cur_bill_minrepay_std + cyclic_accr_std',\n",
       " 'cur_bill_bal_mean',\n",
       " 'cyclic_accr_max',\n",
       " 'education_2',\n",
       " 'borrow_cash_mean',\n",
       " 'cons_num_max',\n",
       " 'avail_bal_mean - borrow_cash_mean',\n",
       " 'cons_num_median',\n",
       " 'job_2',\n",
       " 'cons_num_sum',\n",
       " 'credit_amount_median',\n",
       " 'cyclic_accr_sum',\n",
       " 'marriage_4',\n",
       " 'cur_bill_minrepay_mean',\n",
       " 'cur_bill_minrepay_median + cyclic_accr_median',\n",
       " 'adjust_amount_min',\n",
       " 'credit_amount_var',\n",
       " 'cur_bill_minrepay_mean + cyclic_accr_mean',\n",
       " 'avail_bal_median - borrow_cash_median',\n",
       " 'last_repay_amount_min',\n",
       " 'borrow_cash_median',\n",
       " 'last_repay_amount_std',\n",
       " 'cur_bill_minrepay_std',\n",
       " 'brows_num before lending_11',\n",
       " 'cyclic_accr_std',\n",
       " 'cur_bill_amount_median',\n",
       " 'brows_num before lending_6',\n",
       " 'residence_1',\n",
       " 'adjust_amount_max',\n",
       " 'credit_amount_mean',\n",
       " 'cur_bill_bal_std',\n",
       " 'last_repay_amount_max - last_bill_amount_max',\n",
       " 'brows_num before lending_5',\n",
       " 'last_repay_amount_median - last_bill_amount_median',\n",
       " 'cur_bill_amount_mean',\n",
       " 'brows_num before lending_10',\n",
       " 'last_repay_amount_std - last_bill_amount_std',\n",
       " 'adjust_amount_std',\n",
       " 'brows_beh before lending_sum',\n",
       " 'cons_num_std',\n",
       " 'credit_amount_sum - cur_bill_bal_sum',\n",
       " 'brows_num before lending_4',\n",
       " 'brows_num before lending_1',\n",
       " 'avail_bal_sum',\n",
       " 'cyclic_accr_var',\n",
       " 'credit_amount_std - cur_bill_bal_std',\n",
       " 'cons_num_mean',\n",
       " 'avail_bal_max',\n",
       " 'job_0',\n",
       " 'education_0',\n",
       " 'residence_0',\n",
       " 'brows_num before lending_8',\n",
       " 'last_repay_amount_mean - last_bill_amount_mean',\n",
       " 'brows_beh before lending_min',\n",
       " 'marriage_0',\n",
       " 'cur_bill_minrepay_var + cyclic_accr_var',\n",
       " 'brows_num before lending_7',\n",
       " 'credit_amount_max - cur_bill_bal_max',\n",
       " 'last_bill_amount_var',\n",
       " 'cyclic_accr_mean',\n",
       " 'credit_amount_var - cur_bill_bal_var',\n",
       " 'brows_beh before lending_mean',\n",
       " 'credit_amount_min - cur_bill_bal_min',\n",
       " 'sex_1',\n",
       " 'brows_beh before lending_var',\n",
       " 'cyclic_accr_min',\n",
       " 'borrow_cash_min',\n",
       " 'residence_3',\n",
       " 'marriage_2',\n",
       " 'adjust_amount_var',\n",
       " 'marriage_3',\n",
       " 'job_1',\n",
       " 'residence_2',\n",
       " 'adjust_amount_sum',\n",
       " 'last_repay_amount_var - last_bill_amount_var',\n",
       " 'brows_num before lending_9',\n",
       " 'repay_status_var',\n",
       " 'repay_status_mean',\n",
       " 'avail_bal_median',\n",
       " 'avail_bal_min - borrow_cash_min',\n",
       " 'education_1',\n",
       " 'avail_bal_std',\n",
       " 'adjust_amount_mean']"
      ]
     },
     "execution_count": 14,
     "metadata": {},
     "output_type": "execute_result"
    }
   ],
   "source": [
    "wrapper_select"
   ]
  },
  {
   "cell_type": "code",
   "execution_count": 73,
   "metadata": {},
   "outputs": [],
   "source": [
    "train_select1=train_select[wrapper_select]\n",
    "train_128=train_select1.join(train_select.iloc[:,-1])"
   ]
  },
  {
   "cell_type": "code",
   "execution_count": 75,
   "metadata": {},
   "outputs": [],
   "source": [
    "train_128.to_csv('train_128.csv')"
   ]
  },
  {
   "cell_type": "code",
   "execution_count": null,
   "metadata": {},
   "outputs": [],
   "source": [
    " #wrapper\n",
    "    x_test2 = train_select[wrapper_select]\n",
    "    x_test2 = np.array(x_test2)                             #建立自变量的二维数组\n",
    "    y_test2 = train_select[['overdue']]\n",
    "    y_test2 = np.array(y_test2)                             #建立因变量的二维数组\n",
    "    m2 = DecisionTreeClassifier()                           #建立决策树分类模型\n",
    "    m2.fit(x_test2,y_test2)                                 #模型的拟合训练\n",
    "    scores = cross_val_score(m2, x_test2, y_test2, cv=5, scoring= 'f1')       #将数据集分为5份，分别进行5次回归，返回得分\n",
    "    list_wrapper.append(np.mean(scores))"
   ]
  },
  {
   "cell_type": "code",
   "execution_count": 9,
   "metadata": {},
   "outputs": [
    {
     "name": "stderr",
     "output_type": "stream",
     "text": [
      "d:\\python3.6\\lib\\site-packages\\sklearn\\metrics\\classification.py:1143: UndefinedMetricWarning: F-score is ill-defined and being set to 0.0 due to no predicted samples.\n",
      "  'precision', 'predicted', average, warn_for)\n"
     ]
    }
   ],
   "source": [
    "# xgboost_select   \n",
    "list_xgboost=[]\n",
    "for n in range(len(T_imp)):\n",
    "    xgboost_select=filter_scores.iloc[:n+1,0]\n",
    "    dataSet3=np.array(xgboost_select)#datafram转numpy.array\n",
    "    xgboost_select=dataSet3.tolist()#numpy.array转list\n",
    "\n",
    "    #xgboost\n",
    "    x_test3 = train_select[xgboost_select]\n",
    "    x_test3 = np.array(x_test3)                             #建立自变量的二维数组\n",
    "    y_test3 = train_select[['overdue']]\n",
    "    y_test3 = np.array(y_test3)                             #建立因变量的二维数组\n",
    "    m3 = DecisionTreeClassifier()                           #建立决策树分类模型\n",
    "    m3.fit(x_test3,y_test3)                                 #模型的拟合训练\n",
    "    scores = cross_val_score(m3, x_test3, y_test3, cv=5, scoring= 'f1')       #将数据集分为5份，分别进行5次回归，返回得分\n",
    "    list_xgboost.append(np.mean(scores))"
   ]
  },
  {
   "cell_type": "code",
   "execution_count": 28,
   "metadata": {},
   "outputs": [
    {
     "data": {
      "text/html": [
       "<div>\n",
       "<style scoped>\n",
       "    .dataframe tbody tr th:only-of-type {\n",
       "        vertical-align: middle;\n",
       "    }\n",
       "\n",
       "    .dataframe tbody tr th {\n",
       "        vertical-align: top;\n",
       "    }\n",
       "\n",
       "    .dataframe thead th {\n",
       "        text-align: right;\n",
       "    }\n",
       "</style>\n",
       "<table border=\"1\" class=\"dataframe\">\n",
       "  <thead>\n",
       "    <tr style=\"text-align: right;\">\n",
       "      <th></th>\n",
       "      <th>list_xgboost</th>\n",
       "    </tr>\n",
       "  </thead>\n",
       "  <tbody>\n",
       "    <tr>\n",
       "      <th>0</th>\n",
       "      <td>0.094466</td>\n",
       "    </tr>\n",
       "    <tr>\n",
       "      <th>1</th>\n",
       "      <td>0.200631</td>\n",
       "    </tr>\n",
       "    <tr>\n",
       "      <th>2</th>\n",
       "      <td>0.204327</td>\n",
       "    </tr>\n",
       "    <tr>\n",
       "      <th>3</th>\n",
       "      <td>0.210320</td>\n",
       "    </tr>\n",
       "    <tr>\n",
       "      <th>4</th>\n",
       "      <td>0.205763</td>\n",
       "    </tr>\n",
       "  </tbody>\n",
       "</table>\n",
       "</div>"
      ],
      "text/plain": [
       "   list_xgboost\n",
       "0      0.094466\n",
       "1      0.200631\n",
       "2      0.204327\n",
       "3      0.210320\n",
       "4      0.205763"
      ]
     },
     "execution_count": 28,
     "metadata": {},
     "output_type": "execute_result"
    }
   ],
   "source": [
    "df_scores1.head()"
   ]
  },
  {
   "cell_type": "code",
   "execution_count": 29,
   "metadata": {},
   "outputs": [
    {
     "data": {
      "text/html": [
       "<div>\n",
       "<style scoped>\n",
       "    .dataframe tbody tr th:only-of-type {\n",
       "        vertical-align: middle;\n",
       "    }\n",
       "\n",
       "    .dataframe tbody tr th {\n",
       "        vertical-align: top;\n",
       "    }\n",
       "\n",
       "    .dataframe thead th {\n",
       "        text-align: right;\n",
       "    }\n",
       "</style>\n",
       "<table border=\"1\" class=\"dataframe\">\n",
       "  <thead>\n",
       "    <tr style=\"text-align: right;\">\n",
       "      <th></th>\n",
       "      <th>wrapper</th>\n",
       "      <th>list_xgboost</th>\n",
       "    </tr>\n",
       "  </thead>\n",
       "  <tbody>\n",
       "    <tr>\n",
       "      <th>0</th>\n",
       "      <td>0.094466</td>\n",
       "      <td>0.094466</td>\n",
       "    </tr>\n",
       "    <tr>\n",
       "      <th>1</th>\n",
       "      <td>0.200631</td>\n",
       "      <td>0.200631</td>\n",
       "    </tr>\n",
       "    <tr>\n",
       "      <th>2</th>\n",
       "      <td>0.200120</td>\n",
       "      <td>0.204327</td>\n",
       "    </tr>\n",
       "    <tr>\n",
       "      <th>3</th>\n",
       "      <td>0.205809</td>\n",
       "      <td>0.210320</td>\n",
       "    </tr>\n",
       "    <tr>\n",
       "      <th>4</th>\n",
       "      <td>0.212291</td>\n",
       "      <td>0.205763</td>\n",
       "    </tr>\n",
       "  </tbody>\n",
       "</table>\n",
       "</div>"
      ],
      "text/plain": [
       "    wrapper  list_xgboost\n",
       "0  0.094466      0.094466\n",
       "1  0.200631      0.200631\n",
       "2  0.200120      0.204327\n",
       "3  0.205809      0.210320\n",
       "4  0.212291      0.205763"
      ]
     },
     "execution_count": 29,
     "metadata": {},
     "output_type": "execute_result"
    }
   ],
   "source": [
    "df_scores2.head()"
   ]
  },
  {
   "cell_type": "code",
   "execution_count": 46,
   "metadata": {},
   "outputs": [],
   "source": [
    "scores2 ={'wrapper':list_wrapper,'xgboost':list_xgboost}#合并成一个新的字典c\n",
    "df_scores2= pd.DataFrame(scores2)"
   ]
  },
  {
   "cell_type": "code",
   "execution_count": 47,
   "metadata": {},
   "outputs": [],
   "source": [
    "scores1={'filter':list}\n",
    "df_scores1=pd.DataFrame(scores1)"
   ]
  },
  {
   "cell_type": "code",
   "execution_count": 48,
   "metadata": {},
   "outputs": [],
   "source": [
    "score=df_scores1.join(df_scores2,how='outer')"
   ]
  },
  {
   "cell_type": "code",
   "execution_count": 49,
   "metadata": {},
   "outputs": [],
   "source": [
    "score.to_csv('score.csv')"
   ]
  },
  {
   "cell_type": "code",
   "execution_count": 55,
   "metadata": {},
   "outputs": [],
   "source": [
    "score=pd.read_csv('score.csv',index_col=0)"
   ]
  },
  {
   "cell_type": "code",
   "execution_count": 56,
   "metadata": {},
   "outputs": [
    {
     "data": {
      "text/html": [
       "<div>\n",
       "<style scoped>\n",
       "    .dataframe tbody tr th:only-of-type {\n",
       "        vertical-align: middle;\n",
       "    }\n",
       "\n",
       "    .dataframe tbody tr th {\n",
       "        vertical-align: top;\n",
       "    }\n",
       "\n",
       "    .dataframe thead th {\n",
       "        text-align: right;\n",
       "    }\n",
       "</style>\n",
       "<table border=\"1\" class=\"dataframe\">\n",
       "  <thead>\n",
       "    <tr style=\"text-align: right;\">\n",
       "      <th></th>\n",
       "      <th>filter</th>\n",
       "      <th>wrapper</th>\n",
       "      <th>xgboost</th>\n",
       "      <th>mean</th>\n",
       "    </tr>\n",
       "  </thead>\n",
       "  <tbody>\n",
       "    <tr>\n",
       "      <th>0</th>\n",
       "      <td>0.094466</td>\n",
       "      <td>0.094466</td>\n",
       "      <td>0.094466</td>\n",
       "      <td>0.094466</td>\n",
       "    </tr>\n",
       "    <tr>\n",
       "      <th>1</th>\n",
       "      <td>0.200631</td>\n",
       "      <td>0.200631</td>\n",
       "      <td>0.200631</td>\n",
       "      <td>0.200631</td>\n",
       "    </tr>\n",
       "    <tr>\n",
       "      <th>2</th>\n",
       "      <td>0.193735</td>\n",
       "      <td>0.200120</td>\n",
       "      <td>0.204327</td>\n",
       "      <td>0.199394</td>\n",
       "    </tr>\n",
       "    <tr>\n",
       "      <th>3</th>\n",
       "      <td>0.209710</td>\n",
       "      <td>0.205809</td>\n",
       "      <td>0.210320</td>\n",
       "      <td>0.208613</td>\n",
       "    </tr>\n",
       "    <tr>\n",
       "      <th>4</th>\n",
       "      <td>0.212747</td>\n",
       "      <td>0.212291</td>\n",
       "      <td>0.205763</td>\n",
       "      <td>0.210267</td>\n",
       "    </tr>\n",
       "  </tbody>\n",
       "</table>\n",
       "</div>"
      ],
      "text/plain": [
       "     filter   wrapper   xgboost      mean\n",
       "0  0.094466  0.094466  0.094466  0.094466\n",
       "1  0.200631  0.200631  0.200631  0.200631\n",
       "2  0.193735  0.200120  0.204327  0.199394\n",
       "3  0.209710  0.205809  0.210320  0.208613\n",
       "4  0.212747  0.212291  0.205763  0.210267"
      ]
     },
     "execution_count": 56,
     "metadata": {},
     "output_type": "execute_result"
    }
   ],
   "source": [
    "score.head()"
   ]
  },
  {
   "cell_type": "code",
   "execution_count": 87,
   "metadata": {},
   "outputs": [
    {
     "data": {
      "text/plain": [
       "<matplotlib.axes._subplots.AxesSubplot at 0x22772e26dd8>"
      ]
     },
     "execution_count": 87,
     "metadata": {},
     "output_type": "execute_result"
    },
    {
     "data": {
      "image/png": "[encoded data removed]",
      "text/plain": [
       "<Figure size 864x576 with 1 Axes>"
      ]
     },
     "metadata": {
      "needs_background": "light"
     },
     "output_type": "display_data"
    }
   ],
   "source": [
    "score.plot(figsize=(12,8),grid=True)"
   ]
  },
  {
   "cell_type": "code",
   "execution_count": null,
   "metadata": {},
   "outputs": [],
   "source": []
  }
 ],
 "metadata": {
  "kernelspec": {
   "display_name": "Python 3",
   "language": "python",
   "name": "python3"
  },
  "language_info": {
   "codemirror_mode": {
    "name": "ipython",
    "version": 3
   },
   "file_extension": ".py",
   "mimetype": "text/x-python",
   "name": "python",
   "nbconvert_exporter": "python",
   "pygments_lexer": "ipython3",
   "version": "3.6.5"
  }
 },
 "nbformat": 4,
 "nbformat_minor": 2
}
